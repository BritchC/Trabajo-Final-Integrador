{
 "cells": [
  {
   "cell_type": "code",
   "execution_count": 1,
   "id": "f9d620ab",
   "metadata": {},
   "outputs": [],
   "source": [
    "import random\n",
    "import numpy as np\n",
    "import pandas as pd\n",
    "import matplotlib.pyplot as plt\n",
    "from tqdm import tqdm #para poder ver las barritas de % cargandose cuando va iterando\n",
    "from PIL import Image as im\n",
    "\n",
    "#PyTorch\n",
    "import torch\n",
    "import torchvision\n",
    "import torchvision.transforms as transforms\n",
    "\n",
    "from torch.utils.data import TensorDataset, DataLoader, random_split\n",
    "\n",
    "import torch.nn as nn\n",
    "import torch.nn.functional as F\n",
    "\n",
    "#Confusion matrix\n",
    "from sklearn.metrics import confusion_matrix\n",
    "import seaborn as sn\n",
    "\n",
    "#Optuna\n",
    "import optuna\n",
    "from optuna.integration import PyTorchLightningPruningCallback"
   ]
  },
  {
   "cell_type": "code",
   "execution_count": 2,
   "id": "5bda6284",
   "metadata": {},
   "outputs": [],
   "source": [
    "#Para usar solo 24 cores que me dijo NW\n",
    "\n",
    "torch.set_num_threads(24)"
   ]
  },
  {
   "cell_type": "code",
   "execution_count": 3,
   "id": "328da399",
   "metadata": {},
   "outputs": [],
   "source": [
    "# Function to save the model \n",
    "def saveModel(model): \n",
    "    path = \"./Modelos_Fiteados/CLASIF/RES_5_T.pth\" \n",
    "    torch.save(model.state_dict(), path)"
   ]
  },
  {
   "cell_type": "markdown",
   "id": "c1df267d",
   "metadata": {},
   "source": [
    "## DATASET"
   ]
  },
  {
   "cell_type": "code",
   "execution_count": 3,
   "id": "f2e755c9",
   "metadata": {},
   "outputs": [],
   "source": [
    "#Bajo el MNIST\n",
    "datatrain = torchvision.datasets.MNIST('./', train=True, download=True)\n",
    "datatest = torchvision.datasets.MNIST('./', train=False, download=True)\n",
    "\n",
    "m=len(datatrain)\n",
    "\n",
    "train_data, val_data = random_split(datatrain, [int(m-m*0.2), int(m*0.2)])\n",
    "\n",
    "#Lo guardo en listas en vez de tensores\n",
    "X_train = [x[0] for x in train_data]\n",
    "y_train = [x[1] for x in train_data]\n",
    "\n",
    "X_val = [x[0] for x in val_data]\n",
    "y_val = [x[1] for x in val_data]\n",
    "\n",
    "X_test = [x[0] for x in datatest]\n",
    "y_test = [x[1] for x in datatest]"
   ]
  },
  {
   "cell_type": "code",
   "execution_count": 4,
   "id": "ea001ce4",
   "metadata": {},
   "outputs": [],
   "source": [
    "keep =[0,1,2,3,4,5,6,7,8,9]\n",
    "\n",
    "ls_train = [X_train[i] for i in range(len(X_train)) if y_train[i] in keep]\n",
    "RX_train = [0]*(20*len(ls_train))\n",
    "RY_train = [0]*(20*len(ls_train))\n",
    "\n",
    "ls_val = [X_val[i] for i in range(len(X_val)) if y_val[i] in keep]\n",
    "RX_val = [0]*(20*len(ls_val))\n",
    "RY_val = [0]*(20*len(ls_val))\n",
    "\n",
    "ls_test = [X_test[i] for i in range(len(X_test)) if y_test[i] in keep]\n",
    "RX_test = [0]*(20*len(ls_test))\n",
    "RY_test = [0]*(20*len(ls_test))"
   ]
  },
  {
   "cell_type": "code",
   "execution_count": 5,
   "id": "653f36cd",
   "metadata": {},
   "outputs": [],
   "source": [
    "rotador = torchvision.transforms.functional.rotate"
   ]
  },
  {
   "cell_type": "markdown",
   "id": "1d5dd2ad",
   "metadata": {},
   "source": [
    "### Creo las imagenes rotadas"
   ]
  },
  {
   "cell_type": "markdown",
   "id": "d1375218",
   "metadata": {},
   "source": [
    "Para 3"
   ]
  },
  {
   "cell_type": "code",
   "execution_count": null,
   "id": "a5fe3c43",
   "metadata": {},
   "outputs": [],
   "source": [
    "for i in range(len(ls_train)):\n",
    "    for j in range(20):\n",
    "        ang = np.random.randint(-60,60)\n",
    "        RX_train[i*20+j]=rotador(ls_train[i],ang)\n",
    "        if -60<=ang<-20:\n",
    "            RY_train[i*20+j]=0\n",
    "        elif -20<=ang<20:\n",
    "            RY_train[i*20+j]=1\n",
    "        else:\n",
    "            RY_train[i*20+j]=2\n",
    "            \n",
    "for i in range(len(ls_val)):\n",
    "    for j in range(20):\n",
    "        ang = np.random.randint(-60,60)\n",
    "        RX_val[i*20+j]=rotador(ls_val[i],ang)\n",
    "        if -60<=ang<-20:\n",
    "            RY_val[i*20+j]=0\n",
    "        elif -20<=ang<20:\n",
    "            RY_val[i*20+j]=1\n",
    "        else:\n",
    "            RY_val[i*20+j]=2\n",
    "        \n",
    "        \n",
    "for i in range(len(ls_test)):\n",
    "    for j in range(20):\n",
    "        ang = np.random.randint(-60,60)\n",
    "        RX_test[i*20+j]=rotador(ls_test[i],ang)\n",
    "        if -60<=ang<-20:\n",
    "            RY_test[i*20+j]=0\n",
    "        elif -20<=ang<20:\n",
    "            RY_test[i*20+j]=1\n",
    "        else:\n",
    "            RY_test[i*20+j]=2"
   ]
  },
  {
   "cell_type": "markdown",
   "id": "ab19a5e9",
   "metadata": {},
   "source": [
    "Para 5"
   ]
  },
  {
   "cell_type": "code",
   "execution_count": 6,
   "id": "aca3f030",
   "metadata": {},
   "outputs": [],
   "source": [
    "for i in range(len(ls_train)):\n",
    "    for j in range(20):\n",
    "        ang = np.random.randint(-60,60)\n",
    "        RX_train[i*20+j]=rotador(ls_train[i],ang)\n",
    "        if -60<=ang<-36:\n",
    "            RY_train[i*20+j]=0\n",
    "        elif -36<=ang<-12:\n",
    "            RY_train[i*20+j]=1\n",
    "        elif -12<=ang<12:\n",
    "            RY_train[i*20+j]=2\n",
    "        elif 12<=ang<36:\n",
    "            RY_train[i*20+j]=3\n",
    "        else:\n",
    "            RY_train[i*20+j]=4\n",
    "            \n",
    "for i in range(len(ls_val)):\n",
    "    for j in range(20):\n",
    "        ang = np.random.randint(-60,60)\n",
    "        RX_val[i*20+j]=rotador(ls_val[i],ang)\n",
    "        if -60<=ang<-36:\n",
    "            RY_val[i*20+j]=0\n",
    "        elif -36<=ang<-12:\n",
    "            RY_val[i*20+j]=1\n",
    "        elif -12<=ang<12:\n",
    "            RY_val[i*20+j]=2\n",
    "        elif 12<=ang<36:\n",
    "            RY_val[i*20+j]=3\n",
    "        else:\n",
    "            RY_val[i*20+j]=4\n",
    "        \n",
    "        \n",
    "for i in range(len(ls_test)):\n",
    "    for j in range(20):\n",
    "        ang = np.random.randint(-60,60)\n",
    "        RX_test[i*20+j]=rotador(ls_test[i],ang)\n",
    "        if -60<=ang<-36:\n",
    "            RY_test[i*20+j]=0\n",
    "        elif -36<=ang<-12:\n",
    "            RY_test[i*20+j]=1\n",
    "        elif -12<=ang<12:\n",
    "            RY_test[i*20+j]=2\n",
    "        elif 12<=ang<36:\n",
    "            RY_test[i*20+j]=3\n",
    "        else:\n",
    "            RY_test[i*20+j]=4"
   ]
  },
  {
   "cell_type": "code",
   "execution_count": 7,
   "id": "718c2981",
   "metadata": {},
   "outputs": [
    {
     "name": "stdout",
     "output_type": "stream",
     "text": [
      "train: 960000\n",
      "val: 240000\n",
      "test: 200000\n"
     ]
    }
   ],
   "source": [
    "print('train:',len(RX_train))\n",
    "print('val:',len(RX_val))\n",
    "\n",
    "print('test:',len(RX_test))"
   ]
  },
  {
   "cell_type": "code",
   "execution_count": 8,
   "id": "f74b0613",
   "metadata": {},
   "outputs": [
    {
     "data": {
      "image/png": "[encoded data removed]",
      "text/plain": [
       "<Figure size 576x576 with 25 Axes>"
      ]
     },
     "metadata": {},
     "output_type": "display_data"
    }
   ],
   "source": [
    "# Plot some samples\n",
    "fig, axs = plt.subplots(5, 5, figsize=(8,8))\n",
    "i = 0\n",
    "for ax in axs.flatten():\n",
    "    ax.imshow(np.array(RX_train[i]))\n",
    "    ax.set_title(f'clase: {RY_train[i]}')\n",
    "    ax.set_xticks([])\n",
    "    ax.set_yticks([])\n",
    "    i +=186\n",
    "#plt.savefig('./Modelos_Fiteados/Imagenes/ej_todos.png', format='png')\n",
    "plt.tight_layout()"
   ]
  },
  {
   "cell_type": "code",
   "execution_count": 9,
   "id": "6d3beab4",
   "metadata": {},
   "outputs": [
    {
     "data": {
      "image/png": "[encoded data removed]",
      "text/plain": [
       "<Figure size 432x288 with 1 Axes>"
      ]
     },
     "metadata": {
      "needs_background": "light"
     },
     "output_type": "display_data"
    }
   ],
   "source": [
    "#Veamos si estan masomenos distribuidos\n",
    "plt.hist(RY_test,24)\n",
    "plt.title('Histograma de labels')\n",
    "plt.xlabel('label')\n",
    "plt.ylabel('Frecuencia')\n",
    "\n",
    "plt.show() #dibujamos el histograma"
   ]
  },
  {
   "cell_type": "markdown",
   "id": "f925bdac",
   "metadata": {},
   "source": [
    "#### Creo los dataloader"
   ]
  },
  {
   "cell_type": "code",
   "execution_count": 10,
   "id": "3838d816",
   "metadata": {},
   "outputs": [],
   "source": [
    "to_tensor = torchvision.transforms.ToTensor()\n",
    "\n",
    "#####\n",
    "\n",
    "tensor_RX_train = [to_tensor(RX_train[i]).unsqueeze(0) for i in range(len(RX_train))]\n",
    "tensor_RX_train = torch.cat(tensor_RX_train)\n",
    "\n",
    "tensor_RY_train = torch.Tensor(RY_train).long()\n",
    "\n",
    "###\n",
    "\n",
    "tensor_RX_val = [to_tensor(RX_val[i]).unsqueeze(0) for i in range(len(RX_val))]\n",
    "tensor_RX_val = torch.cat(tensor_RX_val)\n",
    "\n",
    "tensor_RY_val = torch.Tensor(RY_val).long()\n",
    "\n",
    "###\n",
    "\n",
    "tensor_RX_test = [to_tensor(RX_test[i]).unsqueeze(0) for i in range(len(RX_test))]\n",
    "tensor_RX_test = torch.cat(tensor_RX_test)\n",
    "\n",
    "tensor_RY_test = torch.Tensor(RY_test).long()\n",
    "\n",
    "#####\n",
    "\n",
    "tensor_datatrain = TensorDataset(tensor_RX_train, tensor_RY_train)\n",
    "train_loader = DataLoader(tensor_datatrain, batch_size=10000, shuffle=True)\n",
    "\n",
    "tensor_dataval = TensorDataset(tensor_RX_val, tensor_RY_val)\n",
    "valid_loader = DataLoader(tensor_dataval, batch_size=10000, shuffle=True)\n",
    "\n",
    "tensor_datatest = TensorDataset(tensor_RX_test, tensor_RY_test)\n",
    "test_loader = DataLoader(tensor_datatest, batch_size=1)"
   ]
  },
  {
   "cell_type": "markdown",
   "id": "4e7696cc",
   "metadata": {},
   "source": [
    "## RED"
   ]
  },
  {
   "cell_type": "code",
   "execution_count": 11,
   "id": "23ed6029",
   "metadata": {},
   "outputs": [],
   "source": [
    "class Net(nn.Module):\n",
    "    def __init__(self,nf):\n",
    "        super(Net, self).__init__()\n",
    "        self.conv1 = nn.Conv2d(1, nf, 3)\n",
    "        self.pool = nn.MaxPool2d(2, 2)\n",
    "        self.conv2 = nn.Conv2d(nf, nf, 3)\n",
    "        self.fc1 = nn.Linear(nf*12*12, 128)\n",
    "        self.fc2 = nn.Linear(128, 5)                          #ACA 3 o 5 !!! \n",
    "        self.drop = nn.Dropout(0.25)\n",
    "        self.soft = nn.Softmax()\n",
    "\n",
    "#     def forward(self, x, mode):\n",
    "#         if (mode == \"Train\"):\n",
    "#             self.train()\n",
    "#         elif (mode == \"Test\"):\n",
    "#             self.eval()\n",
    "\n",
    "    def forward(self,x):\n",
    "        # Apply net\n",
    "        x = F.relu(self.conv1(x))\n",
    "        x = self.pool(F.relu(self.conv2(x)))\n",
    "        x = self.drop(x)\n",
    "        x = torch.flatten(x, 1) # flatten all dimensions except batch\n",
    "        x = F.relu(self.fc1(x))\n",
    "        x = self.drop(x)\n",
    "        x = self.fc2(x)        \n",
    "        return x"
   ]
  },
  {
   "cell_type": "code",
   "execution_count": 12,
   "id": "f0f7ef59",
   "metadata": {},
   "outputs": [
    {
     "name": "stdout",
     "output_type": "stream",
     "text": [
      "Selected device: cpu\n"
     ]
    },
    {
     "data": {
      "text/plain": [
       "Net(\n",
       "  (conv1): Conv2d(1, 64, kernel_size=(3, 3), stride=(1, 1))\n",
       "  (pool): MaxPool2d(kernel_size=2, stride=2, padding=0, dilation=1, ceil_mode=False)\n",
       "  (conv2): Conv2d(64, 64, kernel_size=(3, 3), stride=(1, 1))\n",
       "  (fc1): Linear(in_features=9216, out_features=128, bias=True)\n",
       "  (fc2): Linear(in_features=128, out_features=5, bias=True)\n",
       "  (drop): Dropout(p=0.25, inplace=False)\n",
       "  (soft): Softmax(dim=None)\n",
       ")"
      ]
     },
     "execution_count": 12,
     "metadata": {},
     "output_type": "execute_result"
    }
   ],
   "source": [
    "nf = 64\n",
    "REG = Net(nf)\n",
    "\n",
    "#Definimos la loss function\n",
    "loss_fn = nn.CrossEntropyLoss()\n",
    "# Definimos el optimizador\n",
    "optimizer = torch.optim.Adam(REG.parameters(), lr=0.001, weight_decay=0.0001)\n",
    "\n",
    "# Check if the GPU is available\n",
    "device = torch.device(\"cuda\") if torch.cuda.is_available() else torch.device(\"cpu\")\n",
    "print(f'Selected device: {device}')\n",
    "\n",
    "#Send model to device\n",
    "REG.to(device)"
   ]
  },
  {
   "cell_type": "code",
   "execution_count": 13,
   "id": "7d2eb103",
   "metadata": {},
   "outputs": [],
   "source": [
    "### Training function\n",
    "def train_epoch(REG, device, dataloader, loss_fn, optimizer):\n",
    "    # Train\n",
    "    REG.train()\n",
    "    train_loss = []\n",
    "    for data, label in dataloader:\n",
    "        # Move data to device\n",
    "        data = data.to(device)\n",
    "        label = label.to(device)\n",
    "        # process\n",
    "        processed = REG.forward(data)#[:,0]\n",
    "        # Compute loss\n",
    "        loss = loss_fn(processed, label)\n",
    "        # Backpropagation\n",
    "        optimizer.zero_grad()\n",
    "        loss.backward()\n",
    "        optimizer.step()\n",
    "        ###\n",
    "        train_loss.append(loss.detach().cpu().numpy())\n",
    "        \n",
    "    return np.mean(train_loss)"
   ]
  },
  {
   "cell_type": "code",
   "execution_count": 14,
   "id": "5a5dd291",
   "metadata": {},
   "outputs": [],
   "source": [
    "### Testing function\n",
    "def test_epoch(REG, device, dataloader, loss_fn):\n",
    "    REG.eval()\n",
    "    with torch.no_grad():\n",
    "        # Define the lists to store the outputs for each batch\n",
    "        conc_out = []\n",
    "        conc_label = []\n",
    "        for image_batch, label in dataloader:\n",
    "            # Move tensor to the proper device\n",
    "            image_batch = image_batch.to(device)\n",
    "            # output\n",
    "            decoded_data = REG.forward(image_batch)\n",
    "            # Append the network output and the original image to the lists\n",
    "            conc_out.append(decoded_data.cpu())\n",
    "            conc_label.append(label.cpu())\n",
    "        # Create a single tensor with all the values in the lists\n",
    "        conc_out = torch.cat(conc_out)\n",
    "        conc_label = torch.cat(conc_label) \n",
    "        # Evaluate global loss\n",
    "        val_loss = loss_fn(conc_out, conc_label)\n",
    "    return val_loss.data\n",
    "\n",
    "\n",
    "#         for data, label in dataloader:\n",
    "#             # Move data to device\n",
    "#             data = data.to(device)\n",
    "#             label = label.to(device)\n",
    "#             # process\n",
    "#             processed = REG.forward(data)#[:,0]\n",
    "#             # Compute loss\n",
    "#             loss = loss_fn(processed, label)\n",
    "#             #Save test loss for this batch\n",
    "#             loss_batch = loss.detach().cpu().numpy()\n",
    "#             test_loss.append(loss_batch)\n",
    "#             #Save the average train loss\n",
    "#             test_loss = np.mean(test_loss)\n",
    "            \n",
    "#         return test_loss"
   ]
  },
  {
   "cell_type": "code",
   "execution_count": null,
   "id": "15903dc4",
   "metadata": {},
   "outputs": [],
   "source": [
    "#     def training_cycle(self, device, training_data, test_data, loss_fn, optim, num_epochs,\n",
    "#                        keep_model=False, verbose= True):\n",
    "#         \"\"\"\n",
    "#         This function train the network for a desired number of epochs it also test the network \n",
    "#         reconstruction performance and make plots comparing the input image and the reconstructed one \n",
    "#         every 5 epochs.\n",
    "#         \"\"\"\n",
    "            \n",
    "#         #I keep track of losses for plots\n",
    "#         train_loss_1 = []\n",
    "#         train_loss_2 = []\n",
    "#         test_loss  = []\n",
    "#         i = 0\n",
    "\n",
    "#         for epoch in tqdm(range(num_epochs)):\n",
    "#             if verbose: print('EPOCH %d/%d' % (epoch + 1, num_epochs))\n",
    "#             ### Training (use the training function)\n",
    "#             tr_l = self.train_epoch(device = device,\n",
    "#                                     dataloader = training_data,\n",
    "#                                     loss_fn = loss_fn,\n",
    "#                                     optimizer = optim,\n",
    "#                                     verbose = verbose)\n",
    "#             train_loss_1.append(tr_l)\n",
    "#             ### training_2  (use the training for loss)\n",
    "#             t_l = self.test_epoch(device=device,\n",
    "#                                   dataloader=training_data,\n",
    "#                                   loss_fn=loss_fn,\n",
    "#                                   verbose = verbose)\n",
    "#             train_loss_2.append(t_l)\n",
    "#             ### Validation  (use the testing function)\n",
    "#             t_l = self.test_epoch(device = device,\n",
    "#                                   dataloader = test_data,\n",
    "#                                   loss_fn = loss_fn,\n",
    "#                                   verbose = verbose)\n",
    "#             test_loss.append(t_l)\n",
    "\n",
    "#         return diz_loss['train_loss_1'], diz_loss['train_loss_2'], diz_loss['val_loss']\n",
    "# # train_loss_1, train_loss_2, test_loss"
   ]
  },
  {
   "cell_type": "markdown",
   "id": "294668fa",
   "metadata": {},
   "source": [
    "### Entrenamos la red"
   ]
  },
  {
   "cell_type": "code",
   "execution_count": 15,
   "id": "99afadaf",
   "metadata": {
    "scrolled": true
   },
   "outputs": [
    {
     "name": "stderr",
     "output_type": "stream",
     "text": [
      "  3%|██▌                                                                           | 1/30 [05:03<2:26:28, 303.05s/it]"
     ]
    },
    {
     "name": "stdout",
     "output_type": "stream",
     "text": [
      "\n",
      " EPOCH 1/30 \t train loss_1 0.7356039881706238 \t train loss_2 0.3266453444957733 \t val loss 0.3303384780883789\n"
     ]
    },
    {
     "name": "stderr",
     "output_type": "stream",
     "text": [
      "\r",
      "  7%|█████▏                                                                        | 2/30 [10:06<2:21:29, 303.19s/it]"
     ]
    },
    {
     "name": "stdout",
     "output_type": "stream",
     "text": [
      "\n",
      " EPOCH 2/30 \t train loss_1 0.2825041711330414 \t train loss_2 0.1684567928314209 \t val loss 0.17327672243118286\n"
     ]
    },
    {
     "name": "stderr",
     "output_type": "stream",
     "text": [
      "\r",
      " 10%|███████▊                                                                      | 3/30 [15:09<2:16:19, 302.96s/it]"
     ]
    },
    {
     "name": "stdout",
     "output_type": "stream",
     "text": [
      "\n",
      " EPOCH 3/30 \t train loss_1 0.18789319694042206 \t train loss_2 0.11078507453203201 \t val loss 0.11650461703538895\n"
     ]
    },
    {
     "name": "stderr",
     "output_type": "stream",
     "text": [
      "\r",
      " 13%|██████████▍                                                                   | 4/30 [20:11<2:11:12, 302.79s/it]"
     ]
    },
    {
     "name": "stdout",
     "output_type": "stream",
     "text": [
      "\n",
      " EPOCH 4/30 \t train loss_1 0.14639103412628174 \t train loss_2 0.0884573757648468 \t val loss 0.09464284032583237\n"
     ]
    },
    {
     "name": "stderr",
     "output_type": "stream",
     "text": [
      "\r",
      " 17%|█████████████                                                                 | 5/30 [25:14<2:06:06, 302.67s/it]"
     ]
    },
    {
     "name": "stdout",
     "output_type": "stream",
     "text": [
      "\n",
      " EPOCH 5/30 \t train loss_1 0.11836019903421402 \t train loss_2 0.06558416783809662 \t val loss 0.07175479829311371\n"
     ]
    },
    {
     "name": "stderr",
     "output_type": "stream",
     "text": [
      "\r",
      " 20%|███████████████▌                                                              | 6/30 [30:16<2:01:01, 302.57s/it]"
     ]
    },
    {
     "name": "stdout",
     "output_type": "stream",
     "text": [
      "\n",
      " EPOCH 6/30 \t train loss_1 0.10128384083509445 \t train loss_2 0.05526469647884369 \t val loss 0.06186104193329811\n"
     ]
    },
    {
     "name": "stderr",
     "output_type": "stream",
     "text": [
      "\r",
      " 23%|██████████████████▏                                                           | 7/30 [35:18<1:55:58, 302.53s/it]"
     ]
    },
    {
     "name": "stdout",
     "output_type": "stream",
     "text": [
      "\n",
      " EPOCH 7/30 \t train loss_1 0.08740230649709702 \t train loss_2 0.045428477227687836 \t val loss 0.052320223301649094\n"
     ]
    },
    {
     "name": "stderr",
     "output_type": "stream",
     "text": [
      "\r",
      " 27%|████████████████████▊                                                         | 8/30 [40:44<1:53:34, 309.77s/it]"
     ]
    },
    {
     "name": "stdout",
     "output_type": "stream",
     "text": [
      "\n",
      " EPOCH 8/30 \t train loss_1 0.07741507142782211 \t train loss_2 0.04025042802095413 \t val loss 0.04768669605255127\n"
     ]
    },
    {
     "name": "stderr",
     "output_type": "stream",
     "text": [
      "\r",
      " 30%|███████████████████████▍                                                      | 9/30 [48:18<2:04:15, 355.01s/it]"
     ]
    },
    {
     "name": "stdout",
     "output_type": "stream",
     "text": [
      "\n",
      " EPOCH 9/30 \t train loss_1 0.06923259049654007 \t train loss_2 0.032736677676439285 \t val loss 0.040245141834020615\n"
     ]
    },
    {
     "name": "stderr",
     "output_type": "stream",
     "text": [
      "\r",
      " 33%|█████████████████████████▋                                                   | 10/30 [55:46<2:07:56, 383.83s/it]"
     ]
    },
    {
     "name": "stdout",
     "output_type": "stream",
     "text": [
      "\n",
      " EPOCH 10/30 \t train loss_1 0.06474661827087402 \t train loss_2 0.0292486771941185 \t val loss 0.03658441826701164\n"
     ]
    },
    {
     "name": "stderr",
     "output_type": "stream",
     "text": [
      "\r",
      " 37%|███████████████████████████▍                                               | 11/30 [1:03:16<2:07:57, 404.07s/it]"
     ]
    },
    {
     "name": "stdout",
     "output_type": "stream",
     "text": [
      "\n",
      " EPOCH 11/30 \t train loss_1 0.057323675602674484 \t train loss_2 0.026940030977129936 \t val loss 0.03440307453274727\n"
     ]
    },
    {
     "name": "stderr",
     "output_type": "stream",
     "text": [
      "\r",
      " 40%|██████████████████████████████                                             | 12/30 [1:10:42<2:05:02, 416.81s/it]"
     ]
    },
    {
     "name": "stdout",
     "output_type": "stream",
     "text": [
      "\n",
      " EPOCH 12/30 \t train loss_1 0.052545588463544846 \t train loss_2 0.02345483936369419 \t val loss 0.03130672127008438\n"
     ]
    },
    {
     "name": "stderr",
     "output_type": "stream",
     "text": [
      "\r",
      " 43%|████████████████████████████████▌                                          | 13/30 [1:18:09<2:00:40, 425.91s/it]"
     ]
    },
    {
     "name": "stdout",
     "output_type": "stream",
     "text": [
      "\n",
      " EPOCH 13/30 \t train loss_1 0.04925797879695892 \t train loss_2 0.020393893122673035 \t val loss 0.02809586189687252\n"
     ]
    },
    {
     "name": "stderr",
     "output_type": "stream",
     "text": [
      "\r",
      " 47%|███████████████████████████████████                                        | 14/30 [1:25:40<1:55:36, 433.51s/it]"
     ]
    },
    {
     "name": "stdout",
     "output_type": "stream",
     "text": [
      "\n",
      " EPOCH 14/30 \t train loss_1 0.04529058560729027 \t train loss_2 0.02090207114815712 \t val loss 0.028854699805378914\n"
     ]
    },
    {
     "name": "stderr",
     "output_type": "stream",
     "text": [
      "\r",
      " 50%|█████████████████████████████████████▌                                     | 15/30 [1:33:08<1:49:27, 437.80s/it]"
     ]
    },
    {
     "name": "stdout",
     "output_type": "stream",
     "text": [
      "\n",
      " EPOCH 15/30 \t train loss_1 0.042290303856134415 \t train loss_2 0.01793086528778076 \t val loss 0.026102786883711815\n"
     ]
    },
    {
     "name": "stderr",
     "output_type": "stream",
     "text": [
      "\r",
      " 53%|████████████████████████████████████████                                   | 16/30 [1:40:37<1:42:56, 441.16s/it]"
     ]
    },
    {
     "name": "stdout",
     "output_type": "stream",
     "text": [
      "\n",
      " EPOCH 16/30 \t train loss_1 0.040391501039266586 \t train loss_2 0.015623598359525204 \t val loss 0.023321060463786125\n"
     ]
    },
    {
     "name": "stderr",
     "output_type": "stream",
     "text": [
      "\r",
      " 57%|██████████████████████████████████████████▌                                | 17/30 [1:48:06<1:36:07, 443.62s/it]"
     ]
    },
    {
     "name": "stdout",
     "output_type": "stream",
     "text": [
      "\n",
      " EPOCH 17/30 \t train loss_1 0.03802652284502983 \t train loss_2 0.01521373726427555 \t val loss 0.02311534434556961\n"
     ]
    },
    {
     "name": "stderr",
     "output_type": "stream",
     "text": [
      "\r",
      " 60%|█████████████████████████████████████████████                              | 18/30 [1:55:35<1:29:02, 445.24s/it]"
     ]
    },
    {
     "name": "stdout",
     "output_type": "stream",
     "text": [
      "\n",
      " EPOCH 18/30 \t train loss_1 0.03471209481358528 \t train loss_2 0.012133964337408543 \t val loss 0.02036578580737114\n"
     ]
    },
    {
     "name": "stderr",
     "output_type": "stream",
     "text": [
      "\r",
      " 63%|███████████████████████████████████████████████▌                           | 19/30 [2:03:06<1:21:56, 446.94s/it]"
     ]
    },
    {
     "name": "stdout",
     "output_type": "stream",
     "text": [
      "\n",
      " EPOCH 19/30 \t train loss_1 0.03400878608226776 \t train loss_2 0.011754186823964119 \t val loss 0.01981395296752453\n"
     ]
    },
    {
     "name": "stderr",
     "output_type": "stream",
     "text": [
      "\r",
      " 67%|██████████████████████████████████████████████████                         | 20/30 [2:10:36<1:14:37, 447.79s/it]"
     ]
    },
    {
     "name": "stdout",
     "output_type": "stream",
     "text": [
      "\n",
      " EPOCH 20/30 \t train loss_1 0.031982291489839554 \t train loss_2 0.011660339310765266 \t val loss 0.01977529563009739\n"
     ]
    },
    {
     "name": "stderr",
     "output_type": "stream",
     "text": [
      "\r",
      " 70%|████████████████████████████████████████████████████▌                      | 21/30 [2:18:05<1:07:12, 448.07s/it]"
     ]
    },
    {
     "name": "stdout",
     "output_type": "stream",
     "text": [
      "\n",
      " EPOCH 21/30 \t train loss_1 0.031093798577785492 \t train loss_2 0.011390718631446362 \t val loss 0.019742321223020554\n"
     ]
    },
    {
     "name": "stderr",
     "output_type": "stream",
     "text": [
      "\r",
      " 73%|████████████████████████████████████████████████████████▍                    | 22/30 [2:25:34<59:47, 448.47s/it]"
     ]
    },
    {
     "name": "stdout",
     "output_type": "stream",
     "text": [
      "\n",
      " EPOCH 22/30 \t train loss_1 0.028681045398116112 \t train loss_2 0.009771146811544895 \t val loss 0.0175767969340086\n"
     ]
    },
    {
     "name": "stderr",
     "output_type": "stream",
     "text": [
      "\r",
      " 77%|███████████████████████████████████████████████████████████                  | 23/30 [2:33:01<52:16, 448.07s/it]"
     ]
    },
    {
     "name": "stdout",
     "output_type": "stream",
     "text": [
      "\n",
      " EPOCH 23/30 \t train loss_1 0.027309825643897057 \t train loss_2 0.008780306205153465 \t val loss 0.01672273501753807\n"
     ]
    },
    {
     "name": "stderr",
     "output_type": "stream",
     "text": [
      "\r",
      " 80%|█████████████████████████████████████████████████████████████▌               | 24/30 [2:40:28<44:46, 447.69s/it]"
     ]
    },
    {
     "name": "stdout",
     "output_type": "stream",
     "text": [
      "\n",
      " EPOCH 24/30 \t train loss_1 0.02676517702639103 \t train loss_2 0.008427917957305908 \t val loss 0.01623832806944847\n"
     ]
    },
    {
     "name": "stderr",
     "output_type": "stream",
     "text": [
      "\r",
      " 83%|████████████████████████████████████████████████████████████████▏            | 25/30 [2:48:00<37:24, 448.95s/it]"
     ]
    },
    {
     "name": "stdout",
     "output_type": "stream",
     "text": [
      "\n",
      " EPOCH 25/30 \t train loss_1 0.02514161914587021 \t train loss_2 0.008446105755865574 \t val loss 0.016099127009510994\n"
     ]
    },
    {
     "name": "stderr",
     "output_type": "stream",
     "text": [
      "\r",
      " 87%|██████████████████████████████████████████████████████████████████▋          | 26/30 [2:55:29<29:55, 448.92s/it]"
     ]
    },
    {
     "name": "stdout",
     "output_type": "stream",
     "text": [
      "\n",
      " EPOCH 26/30 \t train loss_1 0.024645134806632996 \t train loss_2 0.007521630264818668 \t val loss 0.01517858449369669\n"
     ]
    },
    {
     "name": "stderr",
     "output_type": "stream",
     "text": [
      "\r",
      " 90%|█████████████████████████████████████████████████████████████████████▎       | 27/30 [3:02:59<22:28, 449.36s/it]"
     ]
    },
    {
     "name": "stdout",
     "output_type": "stream",
     "text": [
      "\n",
      " EPOCH 27/30 \t train loss_1 0.02449081651866436 \t train loss_2 0.00745913153514266 \t val loss 0.015382633544504642\n"
     ]
    },
    {
     "name": "stderr",
     "output_type": "stream",
     "text": [
      "\r",
      " 93%|███████████████████████████████████████████████████████████████████████▊     | 28/30 [3:10:29<14:59, 449.56s/it]"
     ]
    },
    {
     "name": "stdout",
     "output_type": "stream",
     "text": [
      "\n",
      " EPOCH 28/30 \t train loss_1 0.023158246651291847 \t train loss_2 0.007209290750324726 \t val loss 0.015199028886854649\n"
     ]
    },
    {
     "name": "stderr",
     "output_type": "stream",
     "text": [
      "\r",
      " 97%|██████████████████████████████████████████████████████████████████████████▍  | 29/30 [3:17:56<07:28, 448.59s/it]"
     ]
    },
    {
     "name": "stdout",
     "output_type": "stream",
     "text": [
      "\n",
      " EPOCH 29/30 \t train loss_1 0.022058894857764244 \t train loss_2 0.005741590168327093 \t val loss 0.012981164269149303\n"
     ]
    },
    {
     "name": "stderr",
     "output_type": "stream",
     "text": [
      "100%|█████████████████████████████████████████████████████████████████████████████| 30/30 [3:25:21<00:00, 410.72s/it]"
     ]
    },
    {
     "name": "stdout",
     "output_type": "stream",
     "text": [
      "\n",
      " EPOCH 30/30 \t train loss_1 0.02141702175140381 \t train loss_2 0.006004230119287968 \t val loss 0.013634680770337582\n"
     ]
    },
    {
     "name": "stderr",
     "output_type": "stream",
     "text": [
      "\n"
     ]
    }
   ],
   "source": [
    "num_epochs = 30\n",
    "diz_loss = {'train_loss_1':[], 'train_loss_2':[], 'val_loss':[]}\n",
    "for epoch in tqdm(range(num_epochs)):\n",
    "    train_loss_1 =train_epoch(REG,\n",
    "                              device,\n",
    "                              train_loader,\n",
    "                              loss_fn,\n",
    "                              optimizer)\n",
    "    train_loss_2 = test_epoch(REG,\n",
    "                              device,\n",
    "                              train_loader,\n",
    "                              loss_fn)\n",
    "    val_loss = test_epoch(REG,\n",
    "                          device,\n",
    "                          valid_loader,\n",
    "                          loss_fn)\n",
    "    print('\\n EPOCH {}/{} \\t train loss_1 {} \\t train loss_2 {} \\t val loss {}'.format(epoch + 1, num_epochs,train_loss_1,train_loss_2,val_loss))\n",
    "    diz_loss['train_loss_1'].append(train_loss_1)\n",
    "    diz_loss['train_loss_2'].append(train_loss_2)\n",
    "    diz_loss['val_loss'].append(val_loss)"
   ]
  },
  {
   "cell_type": "code",
   "execution_count": null,
   "id": "9a82acb8",
   "metadata": {
    "scrolled": true
   },
   "outputs": [],
   "source": [
    "# train_loss_1, train_loss_2, valid_loss = model.training_cycle(device,\n",
    "#                                                               train_loader,\n",
    "#                                                               valid_loader,\n",
    "#                                                               loss_fn,\n",
    "#                                                               optimizer,\n",
    "#                                                               max_epochs,\n",
    "#                                                               keep_model=False,\n",
    "#                                                               verbose=True)"
   ]
  },
  {
   "cell_type": "code",
   "execution_count": 16,
   "id": "be828556",
   "metadata": {},
   "outputs": [
    {
     "ename": "NameError",
     "evalue": "name 'saveModel' is not defined",
     "output_type": "error",
     "traceback": [
      "\u001b[0;31m---------------------------------------------------------------------------\u001b[0m",
      "\u001b[0;31mNameError\u001b[0m                                 Traceback (most recent call last)",
      "Input \u001b[0;32mIn [16]\u001b[0m, in \u001b[0;36m<cell line: 1>\u001b[0;34m()\u001b[0m\n\u001b[0;32m----> 1\u001b[0m \u001b[43msaveModel\u001b[49m(REGRESION)\n",
      "\u001b[0;31mNameError\u001b[0m: name 'saveModel' is not defined"
     ]
    }
   ],
   "source": [
    "saveModel(REGRESION)"
   ]
  },
  {
   "cell_type": "markdown",
   "id": "224b20bd",
   "metadata": {},
   "source": [
    "### LOSSES"
   ]
  },
  {
   "cell_type": "code",
   "execution_count": 17,
   "id": "8df43649",
   "metadata": {},
   "outputs": [],
   "source": [
    "np.savetxt('./Modelos_Fiteados/losses/CLASIF/Nuevas_loss/errorTrain_rest5_1_T',diz_loss['train_loss_1'])\n",
    "np.savetxt('./Modelos_Fiteados/losses/CLASIF/Nuevas_loss/errorTrain_rest5_2_T',diz_loss['train_loss_2'])\n",
    "np.savetxt('./Modelos_Fiteados/losses/CLASIF/Nuevas_loss/errorVal_rest5_T',diz_loss['val_loss'])\n",
    "\n",
    "# train_loss = np.loadtxt('./Modelos_Fiteados/losses/trainloss60_5')\n",
    "# test_loss = np.loadtxt('./Modelos_Fiteados/losses/testloss60_5')"
   ]
  },
  {
   "cell_type": "code",
   "execution_count": 18,
   "id": "c6da2b2e",
   "metadata": {},
   "outputs": [
    {
     "data": {
      "image/png": "[encoded data removed]",
      "text/plain": [
       "<Figure size 504x360 with 1 Axes>"
      ]
     },
     "metadata": {
      "needs_background": "light"
     },
     "output_type": "display_data"
    }
   ],
   "source": [
    "# Plot losses by epoch\n",
    "plt.figure(figsize=(7,5))\n",
    "plt.plot(diz_loss['train_loss_2'], linestyle='--', marker='o', label='Train loss', c='mediumaquamarine')\n",
    "plt.plot(diz_loss['val_loss'], linestyle='--', marker='o', label='Valid loss', c='darkviolet')\n",
    "plt.xlabel('Época',fontsize=15)\n",
    "plt.ylabel('Loss',fontsize=15)\n",
    "plt.title(\"Función de costo\", fontsize=15)\n",
    "plt.grid(True)\n",
    "plt.legend()\n",
    "plt.savefig('./Modelos_Fiteados/Imagenes/CLASIF/Nuevas_img/errores_rest5_T.png', format='png')\n",
    "plt.show()"
   ]
  },
  {
   "cell_type": "markdown",
   "id": "950e17d0",
   "metadata": {},
   "source": [
    "#### Veamos matriz de confusion y metricas"
   ]
  },
  {
   "cell_type": "code",
   "execution_count": null,
   "id": "204ae100",
   "metadata": {},
   "outputs": [],
   "source": [
    "model.load_state_dict(torch.load( \"./Modelos_Fiteados/CLASIF/restringido_5_TODOS.pth\" ))"
   ]
  },
  {
   "cell_type": "code",
   "execution_count": null,
   "id": "aae73d28",
   "metadata": {},
   "outputs": [],
   "source": [
    "test_acc = 0\n",
    "\n",
    "y_test=[]\n",
    "y_pred=[]\n",
    "label=[]\n",
    "pred=[]\n",
    "\n",
    "model.to(device)\n",
    "\n",
    "with torch.no_grad():\n",
    "    for x_batched, y_batched in test_loader:\n",
    "        # Move data to device\n",
    "        x_batched = x_batched.to(device)\n",
    "        y_batched = y_batched.to(device)\n",
    "\n",
    "        # forward the data\n",
    "        out = model.forward(x_batched,\"Test\")\n",
    "\n",
    "        y_test = (y_batched.detach().cpu().numpy())\n",
    "        y_pred = (np.argmax(out.detach().cpu().numpy(), axis = 1))\n",
    "        label.extend(y_test)\n",
    "        pred.extend(y_pred)\n",
    "        \n",
    "        right = np.sum(y_pred == y_test)\n",
    "        test_acc = test_acc + right\n",
    "\n",
    "print(f\"The obtained accuracy is {test_acc/len(RY_test)*100} %\")"
   ]
  },
  {
   "cell_type": "code",
   "execution_count": null,
   "id": "23dda98b",
   "metadata": {},
   "outputs": [],
   "source": [
    "def confussion_plot(real, prediction):\n",
    "    categories = ['Clase 1', 'Clase 2', 'Clase 3', 'Clase 4', 'Clase 5']\n",
    "\n",
    "    array = confusion_matrix(real, prediction,normalize=\"true\")\n",
    "    df_cm = pd.DataFrame(array, index = [i for i in categories], columns = [i for i in categories])\n",
    "    \n",
    "    fig = plt.figure(figsize=(8,7))\n",
    "    sn.heatmap(df_cm, annot=True, fmt='.3f',  cmap='viridis')\n",
    "    plt.ylabel(\"Label\",fontsize=15)\n",
    "    plt.xlabel(\"Prediccion\",fontsize=15)\n",
    "    plt.title(\"Matriz de Confusión\",fontsize=15)\n",
    "    plt.savefig('./Modelos_Fiteados/Imagenes/CLASIF/CM_5_Toodos.png', format='png')\n",
    "    plt.show()"
   ]
  },
  {
   "cell_type": "code",
   "execution_count": null,
   "id": "0a456272",
   "metadata": {},
   "outputs": [],
   "source": [
    "confussion_plot(label, pred)"
   ]
  },
  {
   "cell_type": "markdown",
   "id": "2090b584",
   "metadata": {},
   "source": [
    "### Ahora vamos a ver que onda los numeros con los que no entreno. \n",
    "\n",
    "Para eso hago otro dataloader con el resto de los numeros y veo que tul"
   ]
  },
  {
   "cell_type": "code",
   "execution_count": null,
   "id": "7b12ca44",
   "metadata": {},
   "outputs": [],
   "source": [
    "#keep los...\n",
    "keep2 = [0,1,2,5,6,8,9]\n",
    "\n",
    "ls_nvo = [X_test[i] for i in range(len(X_test)) if y_test[i] in keep2]\n",
    "\n",
    "RX_nvo = [0]*(20*len(ls_nvo))\n",
    "RY_nvo = [0]*(20*len(ls_nvo))\n",
    "\n",
    "for i in range(len(ls_nvo)):\n",
    "    for j in range(20):\n",
    "        ang = np.random.randint(-60,60)\n",
    "        RX_nvo[i*20+j]=rotador(ls_nvo[i],ang)\n",
    "        if -60<=ang<-36:\n",
    "            RY_nvo[i*20+j]=0\n",
    "        elif -36<=ang<-12:\n",
    "            RY_nvo[i*20+j]=1\n",
    "        elif -12<=ang<12:\n",
    "            RY_nvo[i*20+j]=2\n",
    "        elif 12<=ang<36:\n",
    "            RY_nvo[i*20+j]=3\n",
    "        else:\n",
    "            RY_nvo[i*20+j]=4\n",
    "            \n",
    "            \n",
    "to_tensor = torchvision.transforms.ToTensor()\n",
    "\n",
    "tensor_RX_nvo = [to_tensor(RX_nvo[i]).unsqueeze(0) for i in range(len(RX_nvo))]\n",
    "tensor_RX_nvo = torch.cat(tensor_RX_nvo)\n",
    "\n",
    "tensor_RY_nvo = torch.Tensor(RY_nvo).long()\n",
    "\n",
    "tensor_datanvo = TensorDataset(tensor_RX_nvo, tensor_RY_nvo)\n",
    "nvo_loader = DataLoader(tensor_datanvo, batch_size=1)"
   ]
  },
  {
   "cell_type": "code",
   "execution_count": null,
   "id": "1fc09a9b",
   "metadata": {},
   "outputs": [],
   "source": [
    "# Plot some samples\n",
    "fig, axs = plt.subplots(5, 5, figsize=(8,8))\n",
    "i = 0\n",
    "for ax in axs.flatten():\n",
    "    # random.choice allows to randomly sample from a list-like object \n",
    "    #(basically anything that can be accessed with an index, like our dataset)\n",
    "    #img, label = random.choice(train_dataset)\n",
    "    ax.imshow(np.array(RX_nvo[i]), cmap='gist_gray')\n",
    "    ax.set_title(f'clase: {RY_nvo[i]}')\n",
    "    ax.set_xticks([])\n",
    "    ax.set_yticks([])\n",
    "    i +=186\n",
    "plt.savefig('./Modelos_Fiteados/Imagenes/ej_nvos.png', format='png')\n",
    "plt.tight_layout()"
   ]
  },
  {
   "cell_type": "code",
   "execution_count": null,
   "id": "64b72184",
   "metadata": {},
   "outputs": [],
   "source": [
    "test_acc = 0\n",
    "\n",
    "y_test=[]\n",
    "y_pred=[]\n",
    "label=[]\n",
    "pred=[]\n",
    "\n",
    "model.to(device)\n",
    "\n",
    "with torch.no_grad():\n",
    "    for x_batched, y_batched in nvo_loader:\n",
    "        # Move data to device\n",
    "        x_batched = x_batched.to(device)\n",
    "        y_batched = y_batched.to(device)\n",
    "\n",
    "        # forward the data\n",
    "        out = model.forward(x_batched,\"Test\")\n",
    "\n",
    "        y_test = (y_batched.detach().cpu().numpy())\n",
    "        y_pred = (np.argmax(out.detach().cpu().numpy(), axis = 1))\n",
    "        label.extend(y_test)\n",
    "        pred.extend(y_pred)\n",
    "        \n",
    "        right = np.sum(y_pred == y_test)\n",
    "        test_acc = test_acc + right\n",
    "\n",
    "print(f\"The obtained accuracy is {test_acc/len(RY_nvo)*100} %\")"
   ]
  },
  {
   "cell_type": "code",
   "execution_count": null,
   "id": "e9d6021d",
   "metadata": {},
   "outputs": [],
   "source": [
    "confussion_plot(label, pred)"
   ]
  },
  {
   "cell_type": "code",
   "execution_count": null,
   "id": "49321e8d",
   "metadata": {},
   "outputs": [],
   "source": []
  }
 ],
 "metadata": {
  "kernelspec": {
   "display_name": "Python 3 (ipykernel)",
   "language": "python",
   "name": "python3"
  },
  "language_info": {
   "codemirror_mode": {
    "name": "ipython",
    "version": 3
   },
   "file_extension": ".py",
   "mimetype": "text/x-python",
   "name": "python",
   "nbconvert_exporter": "python",
   "pygments_lexer": "ipython3",
   "version": "3.9.0"
  }
 },
 "nbformat": 4,
 "nbformat_minor": 5
}
