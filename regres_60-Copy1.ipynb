{
 "cells": [
  {
   "cell_type": "code",
   "execution_count": 1,
   "id": "77205ea4",
   "metadata": {},
   "outputs": [],
   "source": [
    "import random\n",
    "import numpy as np\n",
    "import pandas as pd\n",
    "import matplotlib.pyplot as plt\n",
    "from tqdm import tqdm #para poder ver las barritas de % cargandose cuando va iterando\n",
    "from PIL import Image as im\n",
    "\n",
    "#PyTorch\n",
    "import torch\n",
    "import torchvision\n",
    "import torchvision.transforms as transforms\n",
    "\n",
    "from torch.utils.data import TensorDataset, DataLoader, random_split\n",
    "\n",
    "import torch.nn as nn\n",
    "import torch.nn.functional as F\n",
    "\n",
    "#Confusion matrix\n",
    "from sklearn.metrics import confusion_matrix\n",
    "import seaborn as sn\n",
    "\n",
    "#Optuna\n",
    "import optuna\n",
    "from optuna.integration import PyTorchLightningPruningCallback"
   ]
  },
  {
   "cell_type": "code",
   "execution_count": 2,
   "id": "c4f5dd03",
   "metadata": {},
   "outputs": [],
   "source": [
    "#Para usar solo 24 cores que me dijo NW\n",
    "\n",
    "torch.set_num_threads(24)"
   ]
  },
  {
   "cell_type": "code",
   "execution_count": 3,
   "id": "e6f8a2e5",
   "metadata": {},
   "outputs": [],
   "source": [
    "# Set seeds for reproducibility (PyTorch, Python, Numpy)\n",
    "matricola = 2013031\n",
    "torch.manual_seed(matricola)\n",
    "random.seed(matricola)\n",
    "np.random.seed(matricola)"
   ]
  },
  {
   "cell_type": "code",
   "execution_count": 4,
   "id": "0f216765",
   "metadata": {},
   "outputs": [],
   "source": [
    "# Function to save the model \n",
    "def saveModel(model): \n",
    "    path = \"./Modelos_Fiteados/REG/NUEVAS/3C_L1.pth\" \n",
    "    torch.save(model.state_dict(), path)"
   ]
  },
  {
   "cell_type": "markdown",
   "id": "56f528d5",
   "metadata": {},
   "source": [
    "# DATASET"
   ]
  },
  {
   "cell_type": "code",
   "execution_count": 5,
   "id": "cac936bd",
   "metadata": {},
   "outputs": [],
   "source": [
    "#Bajo el MNIST\n",
    "datatrain = torchvision.datasets.MNIST('./', train=True, download=True)\n",
    "datatest = torchvision.datasets.MNIST('./', train=False, download=True)\n",
    "\n",
    "m=len(datatrain)\n",
    "\n",
    "train_data, val_data = random_split(datatrain, [int(m-m*0.2), int(m*0.2)])\n",
    "\n",
    "#Lo guardo en listas en vez de tensores\n",
    "X_train = [x[0] for x in train_data]\n",
    "y_train = [x[1] for x in train_data]\n",
    "\n",
    "X_val = [x[0] for x in val_data]\n",
    "y_val = [x[1] for x in val_data]\n",
    "\n",
    "X_test = [x[0] for x in datatest]\n",
    "y_test = [x[1] for x in datatest]\n",
    "\n",
    "\n",
    "RX_train = [0]*(20*len(X_train))\n",
    "RY_train = [0]*(20*len(X_train))\n",
    "\n",
    "RX_val = [0]*(20*len(X_val))\n",
    "RY_val = [0]*(20*len(X_val))\n",
    "\n",
    "RX_test = [0]*(20*len(X_test))\n",
    "RY_test = [0]*(20*len(X_test))"
   ]
  },
  {
   "cell_type": "code",
   "execution_count": 6,
   "id": "55613df2",
   "metadata": {},
   "outputs": [],
   "source": [
    "rotador = torchvision.transforms.functional.rotate"
   ]
  },
  {
   "cell_type": "code",
   "execution_count": 7,
   "id": "90c5d661",
   "metadata": {},
   "outputs": [],
   "source": [
    "for i in range(len(X_train)):\n",
    "    for j in range(20):\n",
    "        ang = random.uniform(-60,60)\n",
    "        RX_train[i*20+j]=rotador(X_train[i],ang)\n",
    "        RY_train[i*20+j]=ang\n",
    "        \n",
    "for i in range(len(X_val)):\n",
    "    for j in range(20):\n",
    "        ang = random.uniform(-60,60)\n",
    "        RX_val[i*20+j]=rotador(X_val[i],ang)\n",
    "        RY_val[i*20+j]=ang\n",
    "    \n",
    "for i in range(len(X_test)):\n",
    "    for j in range(20):\n",
    "        ang = random.uniform(-60,60)\n",
    "        RX_test[i*20+j]=rotador(X_test[i],ang)\n",
    "        RY_test[i*20+j]=ang"
   ]
  },
  {
   "cell_type": "code",
   "execution_count": null,
   "id": "15ead974",
   "metadata": {},
   "outputs": [],
   "source": [
    "print(len(RX_train), len(RX_val), len(RX_test))"
   ]
  },
  {
   "cell_type": "code",
   "execution_count": null,
   "id": "ff42c992",
   "metadata": {},
   "outputs": [],
   "source": [
    "#Veamos si estan masomenos distribuidos\n",
    "plt.hist(RY_test,10)\n",
    "plt.title('Histograma de labels')\n",
    "plt.xlabel('label')\n",
    "plt.ylabel('Frecuencia')\n",
    "\n",
    "plt.show() #dibujamos el histograma"
   ]
  },
  {
   "cell_type": "code",
   "execution_count": null,
   "id": "eefa9e43",
   "metadata": {},
   "outputs": [],
   "source": [
    "# Plot some samples\n",
    "fig, axs = plt.subplots(5, 5, figsize=(8,8))\n",
    "i = 0\n",
    "for ax in axs.flatten():\n",
    "    ax.imshow(np.array(RX_train[i*20]), cmap='gist_gray')\n",
    "    ax.set_title(f'Angle: {RY_train[i*20]}')#{round((RY_train[i*20]),2)}')\n",
    "    ax.set_xticks([])\n",
    "    ax.set_yticks([])\n",
    "    i +=1\n",
    "#plt.savefig('./Modelos_Fiteados/Imagenes/REG/.png', format='png')\n",
    "plt.tight_layout()"
   ]
  },
  {
   "cell_type": "markdown",
   "id": "52afd6e6",
   "metadata": {},
   "source": [
    "#### Tensores"
   ]
  },
  {
   "cell_type": "code",
   "execution_count": 8,
   "id": "4a8daebc",
   "metadata": {},
   "outputs": [],
   "source": [
    "#hago la transformacion a tensores\n",
    "to_tensor = torchvision.transforms.ToTensor()\n",
    "\n",
    "#los convierto a tensores con la transformacion\n",
    "tensor_RX_train = [to_tensor(RX_train[i]).unsqueeze(0) for i in range(len(RX_train))]\n",
    "tensor_RX_train = torch.cat(tensor_RX_train)\n",
    "\n",
    "tensor_RY_train = torch.Tensor(RY_train).float()\n",
    "###\n",
    "tensor_RX_val = [to_tensor(RX_val[i]).unsqueeze(0) for i in range(len(RX_val))]\n",
    "tensor_RX_val = torch.cat(tensor_RX_val)\n",
    "\n",
    "tensor_RY_val = torch.Tensor(RY_val).float()\n",
    "###\n",
    "tensor_RX_test = [to_tensor(RX_test[i]).unsqueeze(0) for i in range(len(RX_test))]\n",
    "tensor_RX_test = torch.cat(tensor_RX_test)\n",
    "\n",
    "tensor_RY_test = torch.Tensor(RY_test).float()\n",
    "\n",
    "#creo los datatrian y datatest\n",
    "tensor_datatrain = TensorDataset(tensor_RX_train, tensor_RY_train)\n",
    "train_loader = DataLoader(tensor_datatrain, batch_size=5000, shuffle=True)\n",
    "\n",
    "tensor_dataval = TensorDataset(tensor_RX_val, tensor_RY_val)\n",
    "valid_loader = DataLoader(tensor_dataval, batch_size=5000, shuffle=True)\n",
    "\n",
    "tensor_datatest = TensorDataset(tensor_RX_test, tensor_RY_test)\n",
    "test_loader = DataLoader(tensor_datatest, batch_size=1)"
   ]
  },
  {
   "cell_type": "markdown",
   "id": "dede57e1",
   "metadata": {},
   "source": [
    "### Red 2C"
   ]
  },
  {
   "cell_type": "code",
   "execution_count": null,
   "id": "c85b2636",
   "metadata": {},
   "outputs": [],
   "source": [
    "class Net(nn.Module):    \n",
    "    def __init__(self,nf):\n",
    "        super(Net, self).__init__()\n",
    "        self.conv1 = nn.Conv2d(1, nf, 3)\n",
    "        self.pool = nn.MaxPool2d(2, 2)\n",
    "        self.conv2 = nn.Conv2d(nf, nf, 3)\n",
    "        self.fc1 = nn.Linear(nf*12*12, 128)\n",
    "        self.fc2 = nn.Linear(128, 1)\n",
    "        self.drop = nn.Dropout(0.25)\n",
    "        self.soft = nn.Softmax()\n",
    "\n",
    "    def forward(self, x):\n",
    "        # Apply net\n",
    "        x = F.relu(self.conv1(x))\n",
    "        x = self.pool(F.relu(self.conv2(x)))\n",
    "        x = self.drop(x)\n",
    "        x = torch.flatten(x, 1) # flatten all dimensions except batch\n",
    "        x = F.relu(self.fc1(x))\n",
    "        x = self.drop(x)\n",
    "        x = self.fc2(x)\n",
    "        return x"
   ]
  },
  {
   "cell_type": "markdown",
   "id": "0577bbff",
   "metadata": {},
   "source": [
    "### Red 3C"
   ]
  },
  {
   "cell_type": "code",
   "execution_count": 9,
   "id": "9849fe92",
   "metadata": {},
   "outputs": [],
   "source": [
    "class Net(nn.Module):\n",
    "    def __init__(self,nf):\n",
    "        super(Net,self).__init__()\n",
    "#         ariquitecture\n",
    "        self.net = nn.Sequential(nn.Conv2d(in_channels  = 1,        # First convolutional layer\n",
    "                                           out_channels = nf,\n",
    "                                           kernel_size  = 3,\n",
    "                                           stride       = 2,\n",
    "                                           padding      = 1),\n",
    "                                 nn.ReLU(True),                     # OUT  [nf X 14 X 14]\n",
    "                                 nn.Conv2d(in_channels  = nf,        # Second convolutional layer\n",
    "                                           out_channels = 2 * nf,\n",
    "                                           kernel_size  = 3,\n",
    "                                           stride       = 2,\n",
    "                                           padding      = 1),\n",
    "                                 nn.ReLU(True),                      # OUT [2nf X 7 X 7]\n",
    "                                 nn.Conv2d(in_channels  = 2 * nf,     # Third convolutional layer\n",
    "                                           out_channels = 4 * nf,\n",
    "                                           kernel_size  = 3,\n",
    "                                           stride       = 2,\n",
    "                                           padding      = 0),\n",
    "                                 nn.ReLU(True),                     # OUT [4nf X 3 x 3]\n",
    "                                 nn.Flatten(start_dim=1),            # Flatten layer\n",
    "                                 nn.Linear(in_features  = ((4*nf)*3*3),\n",
    "                                           out_features = 128),\n",
    "                                 nn.ReLU(True),\n",
    "                                 nn.Linear(in_features  = 128,\n",
    "                                           out_features = 64),\n",
    "                                 nn.ReLU(True),\n",
    "                                 nn.Dropout(0.2),\n",
    "                                 nn.Linear(in_features  = 64,\n",
    "                                           out_features = 1,\n",
    "                                           bias=False)\n",
    "                                )\n",
    "        \n",
    "    def forward(self, x):\n",
    "        # Apply encoder decoder\n",
    "        x = self.net(x)\n",
    "        return x"
   ]
  },
  {
   "cell_type": "code",
   "execution_count": 10,
   "id": "84358cd3",
   "metadata": {},
   "outputs": [
    {
     "name": "stdout",
     "output_type": "stream",
     "text": [
      "Selected device: cpu\n"
     ]
    },
    {
     "data": {
      "text/plain": [
       "Net(\n",
       "  (net): Sequential(\n",
       "    (0): Conv2d(1, 8, kernel_size=(3, 3), stride=(2, 2), padding=(1, 1))\n",
       "    (1): ReLU(inplace=True)\n",
       "    (2): Conv2d(8, 16, kernel_size=(3, 3), stride=(2, 2), padding=(1, 1))\n",
       "    (3): ReLU(inplace=True)\n",
       "    (4): Conv2d(16, 32, kernel_size=(3, 3), stride=(2, 2))\n",
       "    (5): ReLU(inplace=True)\n",
       "    (6): Flatten(start_dim=1, end_dim=-1)\n",
       "    (7): Linear(in_features=288, out_features=128, bias=True)\n",
       "    (8): ReLU(inplace=True)\n",
       "    (9): Linear(in_features=128, out_features=64, bias=True)\n",
       "    (10): ReLU(inplace=True)\n",
       "    (11): Dropout(p=0.2, inplace=False)\n",
       "    (12): Linear(in_features=64, out_features=1, bias=False)\n",
       "  )\n",
       ")"
      ]
     },
     "execution_count": 10,
     "metadata": {},
     "output_type": "execute_result"
    }
   ],
   "source": [
    "#RED CON 2C\n",
    "# nf = 64\n",
    "\n",
    "#RED CON 3C\n",
    "nf = 8\n",
    "\n",
    "# Inicializamos la red\n",
    "REGRESION = Net(nf)\n",
    "\n",
    "#Definimos la loss function\n",
    "# loss_fn = nn.MSELoss()\n",
    "loss_fn = nn.L1Loss()\n",
    "\n",
    "# Definimos el optimizador\n",
    "optimizer = torch.optim.Adam(REGRESION.parameters(), lr=0.001 , weight_decay=0.0001)\n",
    "\n",
    "# Check if the GPU is available\n",
    "device = torch.device(\"cuda\") if torch.cuda.is_available() else torch.device(\"cpu\")\n",
    "print(f'Selected device: {device}')\n",
    "\n",
    "#Send model to device\n",
    "REGRESION.to(device)"
   ]
  },
  {
   "cell_type": "code",
   "execution_count": 11,
   "id": "c6865cf3",
   "metadata": {},
   "outputs": [],
   "source": [
    "### Training function\n",
    "def train_epoch(REGRESION, device, dataloader, loss_fn, optimizer):\n",
    "    # Train\n",
    "    REGRESION.train()\n",
    "    train_loss = []\n",
    "    for data, label in dataloader:\n",
    "        # Move data to device\n",
    "        data = data.to(device)\n",
    "        label = label.to(device)\n",
    "        # process\n",
    "        processed = REGRESION.forward(data)[:,0]\n",
    "        # Compute loss\n",
    "        loss = loss_fn(processed, label)\n",
    "        # Backpropagation\n",
    "        optimizer.zero_grad()\n",
    "        loss.backward()\n",
    "        optimizer.step()\n",
    "        ###\n",
    "        loss = loss.detach().cpu().numpy()\n",
    "        train_loss.append(loss)\n",
    "    return np.mean(train_loss)    "
   ]
  },
  {
   "cell_type": "code",
   "execution_count": 12,
   "id": "d860a9ad",
   "metadata": {},
   "outputs": [],
   "source": [
    "# Testing function\n",
    "def test_epoch(modelo, device, dataloader, loss_fn):\n",
    "    modelo.eval()\n",
    "    test_loss = []\n",
    "    with torch.no_grad():\n",
    "        for data, label in dataloader:\n",
    "            # Move tensor to the proper device\n",
    "            data = data.to(device)\n",
    "            label = label.to(device)\n",
    "            # output\n",
    "            processed = modelo.forward(data)[:,0]\n",
    "            # Compute loss\n",
    "            loss = loss_fn(processed, label)\n",
    "            #Save test loss for this batch\n",
    "            loss = loss.detach().cpu().numpy()\n",
    "            test_loss.append(loss)\n",
    "    return np.mean(test_loss)"
   ]
  },
  {
   "cell_type": "markdown",
   "id": "55a3562c",
   "metadata": {},
   "source": [
    "### ENTRENAMOS"
   ]
  },
  {
   "cell_type": "code",
   "execution_count": 13,
   "id": "3021bbc2",
   "metadata": {
    "scrolled": true
   },
   "outputs": [
    {
     "name": "stderr",
     "output_type": "stream",
     "text": [
      "  3%|██▋                                                                              | 1/30 [00:17<08:31, 17.65s/it]"
     ]
    },
    {
     "name": "stdout",
     "output_type": "stream",
     "text": [
      "\n",
      " EPOCH 1/30 \t train loss_1 18.008089065551758 \t train loss_2 11.624669075012207 \t val loss 11.598091125488281\n"
     ]
    },
    {
     "name": "stderr",
     "output_type": "stream",
     "text": [
      "\r",
      "  7%|█████▍                                                                           | 2/30 [00:35<08:10, 17.53s/it]"
     ]
    },
    {
     "name": "stdout",
     "output_type": "stream",
     "text": [
      "\n",
      " EPOCH 2/30 \t train loss_1 11.103976249694824 \t train loss_2 10.088274955749512 \t val loss 10.031781196594238\n"
     ]
    },
    {
     "name": "stderr",
     "output_type": "stream",
     "text": [
      "\r",
      " 10%|████████                                                                         | 3/30 [00:52<07:57, 17.70s/it]"
     ]
    },
    {
     "name": "stdout",
     "output_type": "stream",
     "text": [
      "\n",
      " EPOCH 3/30 \t train loss_1 10.21946907043457 \t train loss_2 9.376020431518555 \t val loss 9.327181816101074\n"
     ]
    },
    {
     "name": "stderr",
     "output_type": "stream",
     "text": [
      "\r",
      " 13%|██████████▊                                                                      | 4/30 [01:10<07:38, 17.64s/it]"
     ]
    },
    {
     "name": "stdout",
     "output_type": "stream",
     "text": [
      "\n",
      " EPOCH 4/30 \t train loss_1 9.66882610321045 \t train loss_2 8.90971851348877 \t val loss 8.856000900268555\n"
     ]
    },
    {
     "name": "stderr",
     "output_type": "stream",
     "text": [
      "\r",
      " 17%|█████████████▌                                                                   | 5/30 [01:28<07:19, 17.58s/it]"
     ]
    },
    {
     "name": "stdout",
     "output_type": "stream",
     "text": [
      "\n",
      " EPOCH 5/30 \t train loss_1 9.217636108398438 \t train loss_2 8.440796852111816 \t val loss 8.377095222473145\n"
     ]
    },
    {
     "name": "stderr",
     "output_type": "stream",
     "text": [
      "\r",
      " 20%|████████████████▏                                                                | 6/30 [01:45<07:04, 17.70s/it]"
     ]
    },
    {
     "name": "stdout",
     "output_type": "stream",
     "text": [
      "\n",
      " EPOCH 6/30 \t train loss_1 8.844356536865234 \t train loss_2 8.182574272155762 \t val loss 8.11888599395752\n"
     ]
    },
    {
     "name": "stderr",
     "output_type": "stream",
     "text": [
      "\r",
      " 23%|██████████████████▉                                                              | 7/30 [02:06<07:09, 18.68s/it]"
     ]
    },
    {
     "name": "stdout",
     "output_type": "stream",
     "text": [
      "\n",
      " EPOCH 7/30 \t train loss_1 8.54462718963623 \t train loss_2 7.8240065574646 \t val loss 7.770808696746826\n"
     ]
    },
    {
     "name": "stderr",
     "output_type": "stream",
     "text": [
      "\r",
      " 27%|█████████████████████▌                                                           | 8/30 [02:24<06:41, 18.27s/it]"
     ]
    },
    {
     "name": "stdout",
     "output_type": "stream",
     "text": [
      "\n",
      " EPOCH 8/30 \t train loss_1 8.290653228759766 \t train loss_2 7.643348693847656 \t val loss 7.618791103363037\n"
     ]
    },
    {
     "name": "stderr",
     "output_type": "stream",
     "text": [
      "\r",
      " 30%|████████████████████████▎                                                        | 9/30 [02:41<06:21, 18.16s/it]"
     ]
    },
    {
     "name": "stdout",
     "output_type": "stream",
     "text": [
      "\n",
      " EPOCH 9/30 \t train loss_1 8.058269500732422 \t train loss_2 7.315927028656006 \t val loss 7.275676727294922\n"
     ]
    },
    {
     "name": "stderr",
     "output_type": "stream",
     "text": [
      "\r",
      " 33%|██████████████████████████▋                                                     | 10/30 [02:59<05:58, 17.94s/it]"
     ]
    },
    {
     "name": "stdout",
     "output_type": "stream",
     "text": [
      "\n",
      " EPOCH 10/30 \t train loss_1 7.891229152679443 \t train loss_2 7.166639804840088 \t val loss 7.135369777679443\n"
     ]
    },
    {
     "name": "stderr",
     "output_type": "stream",
     "text": [
      "\r",
      " 37%|█████████████████████████████▎                                                  | 11/30 [03:16<05:37, 17.78s/it]"
     ]
    },
    {
     "name": "stdout",
     "output_type": "stream",
     "text": [
      "\n",
      " EPOCH 11/30 \t train loss_1 7.743485927581787 \t train loss_2 7.010566711425781 \t val loss 6.97736120223999\n"
     ]
    },
    {
     "name": "stderr",
     "output_type": "stream",
     "text": [
      "\r",
      " 40%|████████████████████████████████                                                | 12/30 [03:34<05:18, 17.68s/it]"
     ]
    },
    {
     "name": "stdout",
     "output_type": "stream",
     "text": [
      "\n",
      " EPOCH 12/30 \t train loss_1 7.604318141937256 \t train loss_2 6.954761028289795 \t val loss 6.938904285430908\n"
     ]
    },
    {
     "name": "stderr",
     "output_type": "stream",
     "text": [
      "\r",
      " 43%|██████████████████████████████████▋                                             | 13/30 [03:51<04:58, 17.59s/it]"
     ]
    },
    {
     "name": "stdout",
     "output_type": "stream",
     "text": [
      "\n",
      " EPOCH 13/30 \t train loss_1 7.4896016120910645 \t train loss_2 6.782293796539307 \t val loss 6.768157958984375\n"
     ]
    },
    {
     "name": "stderr",
     "output_type": "stream",
     "text": [
      "\r",
      " 47%|█████████████████████████████████████▎                                          | 14/30 [04:09<04:40, 17.53s/it]"
     ]
    },
    {
     "name": "stdout",
     "output_type": "stream",
     "text": [
      "\n",
      " EPOCH 14/30 \t train loss_1 7.376547336578369 \t train loss_2 6.769128322601318 \t val loss 6.747534275054932\n"
     ]
    },
    {
     "name": "stderr",
     "output_type": "stream",
     "text": [
      "\r",
      " 50%|████████████████████████████████████████                                        | 15/30 [04:26<04:22, 17.50s/it]"
     ]
    },
    {
     "name": "stdout",
     "output_type": "stream",
     "text": [
      "\n",
      " EPOCH 15/30 \t train loss_1 7.310678958892822 \t train loss_2 6.5752129554748535 \t val loss 6.564600467681885\n"
     ]
    },
    {
     "name": "stderr",
     "output_type": "stream",
     "text": [
      "\r",
      " 53%|██████████████████████████████████████████▋                                     | 16/30 [04:44<04:06, 17.61s/it]"
     ]
    },
    {
     "name": "stdout",
     "output_type": "stream",
     "text": [
      "\n",
      " EPOCH 16/30 \t train loss_1 7.227987289428711 \t train loss_2 6.518381595611572 \t val loss 6.514507293701172\n"
     ]
    },
    {
     "name": "stderr",
     "output_type": "stream",
     "text": [
      "\r",
      " 57%|█████████████████████████████████████████████▎                                  | 17/30 [05:01<03:48, 17.56s/it]"
     ]
    },
    {
     "name": "stdout",
     "output_type": "stream",
     "text": [
      "\n",
      " EPOCH 17/30 \t train loss_1 7.13933801651001 \t train loss_2 6.377325534820557 \t val loss 6.369981288909912\n"
     ]
    },
    {
     "name": "stderr",
     "output_type": "stream",
     "text": [
      "\r",
      " 60%|████████████████████████████████████████████████                                | 18/30 [05:19<03:30, 17.51s/it]"
     ]
    },
    {
     "name": "stdout",
     "output_type": "stream",
     "text": [
      "\n",
      " EPOCH 18/30 \t train loss_1 7.070188045501709 \t train loss_2 6.366945743560791 \t val loss 6.3720383644104\n"
     ]
    },
    {
     "name": "stderr",
     "output_type": "stream",
     "text": [
      "\r",
      " 63%|██████████████████████████████████████████████████▋                             | 19/30 [05:36<03:12, 17.49s/it]"
     ]
    },
    {
     "name": "stdout",
     "output_type": "stream",
     "text": [
      "\n",
      " EPOCH 19/30 \t train loss_1 7.018987655639648 \t train loss_2 6.221328258514404 \t val loss 6.239734172821045\n"
     ]
    },
    {
     "name": "stderr",
     "output_type": "stream",
     "text": [
      "\r",
      " 67%|█████████████████████████████████████████████████████▎                          | 20/30 [05:54<02:54, 17.49s/it]"
     ]
    },
    {
     "name": "stdout",
     "output_type": "stream",
     "text": [
      "\n",
      " EPOCH 20/30 \t train loss_1 6.963210582733154 \t train loss_2 6.222665309906006 \t val loss 6.25001859664917\n"
     ]
    },
    {
     "name": "stderr",
     "output_type": "stream",
     "text": [
      "\r",
      " 70%|████████████████████████████████████████████████████████                        | 21/30 [06:11<02:38, 17.59s/it]"
     ]
    },
    {
     "name": "stdout",
     "output_type": "stream",
     "text": [
      "\n",
      " EPOCH 21/30 \t train loss_1 6.904149532318115 \t train loss_2 6.1335129737854 \t val loss 6.165740966796875\n"
     ]
    },
    {
     "name": "stderr",
     "output_type": "stream",
     "text": [
      "\r",
      " 73%|██████████████████████████████████████████████████████████▋                     | 22/30 [06:29<02:20, 17.52s/it]"
     ]
    },
    {
     "name": "stdout",
     "output_type": "stream",
     "text": [
      "\n",
      " EPOCH 22/30 \t train loss_1 6.86915397644043 \t train loss_2 6.069699764251709 \t val loss 6.108158588409424\n"
     ]
    },
    {
     "name": "stderr",
     "output_type": "stream",
     "text": [
      "\r",
      " 77%|█████████████████████████████████████████████████████████████▎                  | 23/30 [06:46<02:02, 17.49s/it]"
     ]
    },
    {
     "name": "stdout",
     "output_type": "stream",
     "text": [
      "\n",
      " EPOCH 23/30 \t train loss_1 6.812615871429443 \t train loss_2 6.011474132537842 \t val loss 6.059729099273682\n"
     ]
    },
    {
     "name": "stderr",
     "output_type": "stream",
     "text": [
      "\r",
      " 80%|████████████████████████████████████████████████████████████████                | 24/30 [07:04<01:44, 17.49s/it]"
     ]
    },
    {
     "name": "stdout",
     "output_type": "stream",
     "text": [
      "\n",
      " EPOCH 24/30 \t train loss_1 6.78666877746582 \t train loss_2 6.1550445556640625 \t val loss 6.212731838226318\n"
     ]
    },
    {
     "name": "stderr",
     "output_type": "stream",
     "text": [
      "\r",
      " 83%|██████████████████████████████████████████████████████████████████▋             | 25/30 [07:21<01:27, 17.45s/it]"
     ]
    },
    {
     "name": "stdout",
     "output_type": "stream",
     "text": [
      "\n",
      " EPOCH 25/30 \t train loss_1 6.762554168701172 \t train loss_2 5.978700160980225 \t val loss 6.024515151977539\n"
     ]
    },
    {
     "name": "stderr",
     "output_type": "stream",
     "text": [
      "\r",
      " 87%|█████████████████████████████████████████████████████████████████████▎          | 26/30 [07:39<01:09, 17.46s/it]"
     ]
    },
    {
     "name": "stdout",
     "output_type": "stream",
     "text": [
      "\n",
      " EPOCH 26/30 \t train loss_1 6.6831183433532715 \t train loss_2 5.916120529174805 \t val loss 5.981970310211182\n"
     ]
    },
    {
     "name": "stderr",
     "output_type": "stream",
     "text": [
      "\r",
      " 90%|████████████████████████████████████████████████████████████████████████        | 27/30 [07:56<00:52, 17.57s/it]"
     ]
    },
    {
     "name": "stdout",
     "output_type": "stream",
     "text": [
      "\n",
      " EPOCH 27/30 \t train loss_1 6.643596649169922 \t train loss_2 5.986669063568115 \t val loss 6.059469699859619\n"
     ]
    },
    {
     "name": "stderr",
     "output_type": "stream",
     "text": [
      "\r",
      " 93%|██████████████████████████████████████████████████████████████████████████▋     | 28/30 [08:14<00:35, 17.50s/it]"
     ]
    },
    {
     "name": "stdout",
     "output_type": "stream",
     "text": [
      "\n",
      " EPOCH 28/30 \t train loss_1 6.6217474937438965 \t train loss_2 6.017527103424072 \t val loss 6.092998027801514\n"
     ]
    },
    {
     "name": "stderr",
     "output_type": "stream",
     "text": [
      "\r",
      " 97%|█████████████████████████████████████████████████████████████████████████████▎  | 29/30 [08:31<00:17, 17.50s/it]"
     ]
    },
    {
     "name": "stdout",
     "output_type": "stream",
     "text": [
      "\n",
      " EPOCH 29/30 \t train loss_1 6.56892728805542 \t train loss_2 5.760385990142822 \t val loss 5.835501194000244\n"
     ]
    },
    {
     "name": "stderr",
     "output_type": "stream",
     "text": [
      "100%|████████████████████████████████████████████████████████████████████████████████| 30/30 [08:49<00:00, 17.64s/it]"
     ]
    },
    {
     "name": "stdout",
     "output_type": "stream",
     "text": [
      "\n",
      " EPOCH 30/30 \t train loss_1 6.53169059753418 \t train loss_2 5.753641605377197 \t val loss 5.828758716583252\n"
     ]
    },
    {
     "name": "stderr",
     "output_type": "stream",
     "text": [
      "\n"
     ]
    }
   ],
   "source": [
    "num_epochs = 30\n",
    "diz_loss = {'train_loss_1':[], 'train_loss_2':[], 'val_loss':[]}\n",
    "for epoch in tqdm(range(num_epochs)):\n",
    "    train_loss_1 = train_epoch(REGRESION,\n",
    "                              device,\n",
    "                              train_loader,\n",
    "                              loss_fn,\n",
    "                              optimizer)\n",
    "    train_loss_2 = test_epoch(REGRESION,\n",
    "                              device,\n",
    "                              train_loader,\n",
    "                              loss_fn)\n",
    "    val_loss = test_epoch(REGRESION,\n",
    "                          device,\n",
    "                          valid_loader,\n",
    "                          loss_fn)\n",
    "    print('\\n EPOCH {}/{} \\t train loss_1 {} \\t train loss_2 {} \\t val loss {}'.format(epoch + 1, num_epochs,train_loss_1,train_loss_2,val_loss))\n",
    "    diz_loss['train_loss_1'].append(train_loss_1)\n",
    "    diz_loss['train_loss_2'].append(train_loss_2)\n",
    "    diz_loss['val_loss'].append(val_loss)"
   ]
  },
  {
   "cell_type": "code",
   "execution_count": 16,
   "id": "6c6a6f34",
   "metadata": {},
   "outputs": [],
   "source": [
    "saveModel(REGRESION)"
   ]
  },
  {
   "cell_type": "code",
   "execution_count": null,
   "id": "b84e6a54",
   "metadata": {},
   "outputs": [],
   "source": [
    "# model.load_state_dict(torch.load(\"./Modelos_Fiteados/REG/3C_L1.pth\"))"
   ]
  },
  {
   "cell_type": "code",
   "execution_count": 14,
   "id": "380ff375",
   "metadata": {},
   "outputs": [],
   "source": [
    "np.savetxt('./Modelos_Fiteados/losses/REG/Nuevas_loss/errorTrain_3CL1_1',diz_loss['train_loss_1'])\n",
    "np.savetxt('./Modelos_Fiteados/losses/REG/Nuevas_loss/errorTrain_3CL1_2',diz_loss['train_loss_2'])\n",
    "np.savetxt('./Modelos_Fiteados/losses/REG/Nuevas_loss/errorVal_3CL1',diz_loss['val_loss'])\n",
    "\n",
    "# train_loss = np.loadtxt('./Modelos_Fiteados/losses/trainloss60_5')\n",
    "# test_loss = np.loadtxt('./Modelos_Fiteados/losses/testloss60_5')"
   ]
  },
  {
   "cell_type": "code",
   "execution_count": 15,
   "id": "7d98b1b8",
   "metadata": {},
   "outputs": [
    {
     "data": {
      "image/png": "[encoded data removed]",
      "text/plain": [
       "<Figure size 504x360 with 1 Axes>"
      ]
     },
     "metadata": {
      "needs_background": "light"
     },
     "output_type": "display_data"
    }
   ],
   "source": [
    "# Plot losses by epoch\n",
    "plt.figure(figsize=(7,5))\n",
    "# plt.plot(train_loss_1, linestyle='--', marker='o',  label='Train 1 loss', c='mediumaquamarine')\n",
    "plt.plot(diz_loss['train_loss_2'], linestyle='--', marker='o',  label='Train loss', c='mediumaquamarine')\n",
    "plt.plot(diz_loss['val_loss'], linestyle='--', marker='o', label='Valid loss', c='darkviolet')\n",
    "plt.xlabel('Época',fontsize=15)\n",
    "plt.ylabel('Loss',fontsize=15)\n",
    "plt.title(\"Función de costo\",fontsize=15)\n",
    "plt.grid()\n",
    "plt.legend()\n",
    "plt.savefig('./Modelos_Fiteados/Imagenes/REG/NUEVAS/errores_3CL1.png', format='png')\n",
    "plt.show()"
   ]
  },
  {
   "cell_type": "code",
   "execution_count": null,
   "id": "9d9e073f",
   "metadata": {},
   "outputs": [],
   "source": [
    "prediccion = []\n",
    "\n",
    "model.to(device)\n",
    "\n",
    "with torch.no_grad():\n",
    "    for data in test_loader:\n",
    "        # get the inputs; data is a list of [inputs, labels]\n",
    "        inputs, labels = data\n",
    "        inputs = inputs.to(device)\n",
    "        \n",
    "        # forward + backward + optimize\n",
    "        outputs = model(inputs, \"Test\")\n",
    "        outputs = outputs.detach().cpu().numpy()\n",
    "        labels = labels.detach().cpu().numpy()\n",
    "        prediccion.append([outputs[0][0],labels[0]])\n",
    "        #print(outputs)\n",
    "prediccion = np.array(prediccion)"
   ]
  },
  {
   "cell_type": "code",
   "execution_count": null,
   "id": "d644e2f8",
   "metadata": {},
   "outputs": [],
   "source": [
    "# np.savetxt('./Modelos_Fiteados/REG/predic_3C_L1',prediccion)\n",
    "\n",
    "prediccion = np.loadtxt('./Modelos_Fiteados/REG/predic_3C_L1')"
   ]
  },
  {
   "cell_type": "code",
   "execution_count": null,
   "id": "7275445a",
   "metadata": {},
   "outputs": [],
   "source": [
    "# plt.figure(figsize=(7,5))\n",
    "plt.scatter(prediccion[:,1],prediccion[:,0], marker=\"+\", s=1, alpha=.2, c='blueviolet')\n",
    "plt.plot(np.linspace(-60, 60, num=100),np.linspace(-60, 60, num=100), linestyle='--', c='orange')\n",
    "plt.xlabel('Valor REAL',fontsize=15)\n",
    "plt.ylabel('Valor PREDICHO',fontsize=15)\n",
    "plt.title(\"Dispersión de valores predichos\",fontsize=15)\n",
    "plt.xlim(-60,60)\n",
    "plt.savefig('./Modelos_Fiteados/Imagenes/REG/disper_3C_L1.png', format='png')\n",
    "plt.show()"
   ]
  },
  {
   "cell_type": "code",
   "execution_count": null,
   "id": "d53aff78",
   "metadata": {},
   "outputs": [],
   "source": [
    "# plt.figure(figsize=(8, 8))\n",
    "# plt.scatter(prediccion[:,0],[i for i in range(len(prediccion[:,0]))],alpha=0.05)\n",
    "# plt.scatter(prediccion[:,1],[i for i in range(len(prediccion[:,1]))],alpha=0.05)\n",
    "# plt.show()"
   ]
  },
  {
   "cell_type": "markdown",
   "id": "3170900b",
   "metadata": {},
   "source": [
    "### Vamos a discretizar las cosas asi vemos una especie de CM"
   ]
  },
  {
   "cell_type": "code",
   "execution_count": null,
   "id": "69bc74d1",
   "metadata": {},
   "outputs": [],
   "source": [
    "prediccion = np.loadtxt('./Modelos_Fiteados/REG/predic_2C_L1')"
   ]
  },
  {
   "cell_type": "code",
   "execution_count": null,
   "id": "f33db4e7",
   "metadata": {},
   "outputs": [],
   "source": [
    "i=0\n",
    "for i in range(len(prediccion)):\n",
    "    if -60<= prediccion[i,0]< -45:\n",
    "        prediccion[i,0]=0\n",
    "    elif -45 <= prediccion[i,0] < -30:\n",
    "        prediccion[i,0]=1\n",
    "    elif -30<= prediccion[i,0] < -15:\n",
    "        prediccion[i,0]=2\n",
    "    elif -15 <= prediccion[i,0] < 0:\n",
    "        prediccion[i,0]=3\n",
    "    elif 0 <= prediccion[i,0] <15:\n",
    "        prediccion[i,0]=4\n",
    "    elif 15 <= prediccion[i,0] <30:\n",
    "        prediccion[i,0]=5\n",
    "    elif 30 <= prediccion[i,0] <45:\n",
    "        prediccion[i,0]=6\n",
    "    else:\n",
    "        prediccion[i,0]=7        \n",
    "        \n",
    "i=0\n",
    "for i in range(len(prediccion)):\n",
    "    if -60 <= prediccion[i,1]< -45:\n",
    "        prediccion[i,1]=0\n",
    "    elif -45 <= prediccion[i,1] < -30:\n",
    "        prediccion[i,1]=1\n",
    "    elif -30<= prediccion[i,1] < -15:\n",
    "        prediccion[i,1]=2\n",
    "    elif -15 <= prediccion[i,1] < 0:\n",
    "        prediccion[i,1]=3\n",
    "    elif 0 <= prediccion[i,1] <15:\n",
    "        prediccion[i,1]=4\n",
    "    elif 15 <= prediccion[i,1] <30:\n",
    "        prediccion[i,1]=5\n",
    "    elif 30 <= prediccion[i,1] <45:\n",
    "        prediccion[i,1]=6\n",
    "    else:\n",
    "        prediccion[i,1]=7"
   ]
  },
  {
   "cell_type": "code",
   "execution_count": null,
   "id": "d21ec63b",
   "metadata": {},
   "outputs": [],
   "source": [
    "label = prediccion[:,0]\n",
    "pred = prediccion[:,1]"
   ]
  },
  {
   "cell_type": "code",
   "execution_count": null,
   "id": "31a762d2",
   "metadata": {},
   "outputs": [],
   "source": [
    "def confussion_plot(real, prediction):\n",
    "    categories = ['Clase 1', 'Clase 2', 'Clase 3', 'Clase 4', 'Clase 5', 'Clase 6', 'Clase 7', 'Clase 8']\n",
    "\n",
    "    array = confusion_matrix(real, prediction)#, normalize=\"true\")\n",
    "    df_cm = pd.DataFrame(array, index = [i for i in categories], columns = [i for i in categories])\n",
    "    \n",
    "    fig = plt.figure(figsize=(8,7))\n",
    "    sn.heatmap(df_cm, annot=True, fmt='.2f', cmap='viridis')\n",
    "    plt.ylabel(\"Etiqueta\",fontsize=15)\n",
    "    plt.xlabel(\"Predicción\",fontsize=15)\n",
    "    plt.title(\"Matríz de confusión\",fontsize=15)\n",
    "    plt.savefig('./Modelos_Fiteados/Imagenes/REG/CM_2C_L1.png', format='png')\n",
    "    plt.show()"
   ]
  },
  {
   "cell_type": "code",
   "execution_count": null,
   "id": "0b14e108",
   "metadata": {},
   "outputs": [],
   "source": [
    "confussion_plot(label, pred)"
   ]
  },
  {
   "cell_type": "code",
   "execution_count": null,
   "id": "0858a976",
   "metadata": {},
   "outputs": [],
   "source": [
    "right = 0\n",
    "test_acc = 0\n",
    "\n",
    "for i in range(len(label)):\n",
    "    right = np.sum(label[i]==pred[i])\n",
    "    test_acc = test_acc + right\n",
    "\n",
    "print(f\"The obtained accuracy is {test_acc/len(label)*100} %\")"
   ]
  },
  {
   "cell_type": "markdown",
   "id": "0237d0c3",
   "metadata": {},
   "source": [
    "en 5 clases a ver"
   ]
  },
  {
   "cell_type": "code",
   "execution_count": null,
   "id": "111887aa",
   "metadata": {},
   "outputs": [],
   "source": [
    "prediccion = np.loadtxt('./Modelos_Fiteados/REG/predic_3C_L1')"
   ]
  },
  {
   "cell_type": "code",
   "execution_count": null,
   "id": "8d5320bb",
   "metadata": {},
   "outputs": [],
   "source": [
    "i=0\n",
    "for i in range(len(prediccion)):\n",
    "    if -60<= prediccion[i,0]< -36:\n",
    "        prediccion[i,0]=0\n",
    "    elif -36 <= prediccion[i,0] < -12:\n",
    "        prediccion[i,0]=1\n",
    "    elif -12<= prediccion[i,0] < 12:\n",
    "        prediccion[i,0]=2\n",
    "    elif 12 <= prediccion[i,0] < 36:\n",
    "        prediccion[i,0]=3\n",
    "    else:\n",
    "        prediccion[i,0]=4        \n",
    "        \n",
    "i=0\n",
    "for i in range(len(prediccion)):\n",
    "    if -60 <= prediccion[i,1]< -36:\n",
    "        prediccion[i,1]=0\n",
    "    elif -36 <= prediccion[i,1] < -12:\n",
    "        prediccion[i,1]=1\n",
    "    elif -12<= prediccion[i,1] < 12:\n",
    "        prediccion[i,1]=2\n",
    "    elif 12 <= prediccion[i,1] < 36:\n",
    "        prediccion[i,1]=3\n",
    "    else:\n",
    "        prediccion[i,1]=4"
   ]
  },
  {
   "cell_type": "code",
   "execution_count": null,
   "id": "4542ea60",
   "metadata": {},
   "outputs": [],
   "source": [
    "label = prediccion[:,0]\n",
    "pred = prediccion[:,1]"
   ]
  },
  {
   "cell_type": "code",
   "execution_count": null,
   "id": "9afba863",
   "metadata": {},
   "outputs": [],
   "source": [
    "def confussion_plot(real, prediction):\n",
    "    categories = ['Clase 1', 'Clase 2', 'Clase 3', 'Clase 4', 'Clase 5']\n",
    "\n",
    "    array = confusion_matrix(real, prediction, normalize=\"true\")\n",
    "    df_cm = pd.DataFrame(array, index = [i for i in categories], columns = [i for i in categories])\n",
    "    \n",
    "    fig = plt.figure(figsize=(8,7))\n",
    "    sn.heatmap(df_cm, annot=True, fmt='.2f', cmap='viridis')\n",
    "    plt.ylabel(\"Etiqueta\",fontsize=15)\n",
    "    plt.xlabel(\"Predicción\",fontsize=15)\n",
    "    plt.title(\"Matríz de confusión\",fontsize=15)\n",
    "    plt.savefig('./Modelos_Fiteados/Imagenes/REG/MC3CL1_5_NORM.png', format='png')\n",
    "    plt.show()"
   ]
  },
  {
   "cell_type": "code",
   "execution_count": null,
   "id": "f468fe8c",
   "metadata": {},
   "outputs": [],
   "source": [
    "confussion_plot(label, pred)"
   ]
  },
  {
   "cell_type": "markdown",
   "id": "0abb637c",
   "metadata": {},
   "source": [
    "#### Veamos si me sale el grafico delas cosas pero con la recta ajustada"
   ]
  },
  {
   "cell_type": "code",
   "execution_count": null,
   "id": "c6a5a717",
   "metadata": {},
   "outputs": [],
   "source": [
    "a = -0.0064\n",
    "b = 1.009\n",
    "\n",
    "x = np.arange(-0.6,0.6, 0.001)\n",
    "y = a + b*x\n",
    "\n",
    "# plt.plot(x,y)\n",
    "# plt.xlabel('x')\n",
    "# plt.ylabel('y')\n",
    "# plt.title('Lab DLS')\n",
    "# plt.show()"
   ]
  },
  {
   "cell_type": "code",
   "execution_count": null,
   "id": "8148754e",
   "metadata": {},
   "outputs": [],
   "source": [
    "prediccion = np.loadtxt('./Modelos_Fiteados/REG/predic_')"
   ]
  },
  {
   "cell_type": "code",
   "execution_count": null,
   "id": "a25c9ff0",
   "metadata": {},
   "outputs": [],
   "source": [
    "plt.figure(figsize=(7,5))\n",
    "plt.scatter(prediccion[:,0],prediccion[:,1], marker=\"+\", color='navy', s=5, alpha=.2)\n",
    "plt.plot(np.linspace(-0.6, 0.6, num=100),np.linspace(-0.6, 0.6, num=100), linestyle='--', color='sandybrown')\n",
    "plt.scatter(x,y, marker ='*' , color = 'darkviolet', s=5, alpha=0.5)\n",
    "plt.xlabel('Valor predicho',fontsize=15)\n",
    "plt.ylabel('Valor real',fontsize=15)\n",
    "plt.title(\"Dispersión 2C_L1\",fontsize=15)\n",
    "plt.xlim(-0.8,0.8)\n",
    "plt.legend(labels = ['Puntos','Identidad','Ajuste'])\n",
    "# plt.savefig('./Modelos_Fiteados/Imagenes/REG/disper_3c_L1.png', format='png')\n",
    "plt.show()"
   ]
  },
  {
   "cell_type": "code",
   "execution_count": null,
   "id": "b327244f",
   "metadata": {},
   "outputs": [],
   "source": []
  }
 ],
 "metadata": {
  "kernelspec": {
   "display_name": "Python 3 (ipykernel)",
   "language": "python",
   "name": "python3"
  },
  "language_info": {
   "codemirror_mode": {
    "name": "ipython",
    "version": 3
   },
   "file_extension": ".py",
   "mimetype": "text/x-python",
   "name": "python",
   "nbconvert_exporter": "python",
   "pygments_lexer": "ipython3",
   "version": "3.9.0"
  }
 },
 "nbformat": 4,
 "nbformat_minor": 5
}
