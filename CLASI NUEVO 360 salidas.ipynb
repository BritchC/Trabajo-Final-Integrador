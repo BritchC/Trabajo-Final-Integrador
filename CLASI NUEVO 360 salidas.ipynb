{
 "cells": [
  {
   "cell_type": "code",
   "execution_count": 1,
   "id": "4d988421",
   "metadata": {
    "scrolled": true
   },
   "outputs": [],
   "source": [
    "import random\n",
    "import numpy as np\n",
    "import pandas as pd\n",
    "import matplotlib.pyplot as plt\n",
    "from tqdm import tqdm #para poder ver las barritas de % cargandose cuando va iterando\n",
    "from PIL import Image as im\n",
    "\n",
    "#PyTorch\n",
    "import torch\n",
    "import torchvision\n",
    "import torchvision.transforms as transforms\n",
    "\n",
    "from torch.utils.data import TensorDataset, DataLoader, random_split\n",
    "\n",
    "import torch.nn as nn\n",
    "import torch.nn.functional as F\n",
    "\n",
    "#Confusion matrix\n",
    "from sklearn.metrics import confusion_matrix\n",
    "import seaborn as sn\n",
    "\n",
    "#Optuna\n",
    "import optuna\n",
    "from optuna.integration import PyTorchLightningPruningCallback"
   ]
  },
  {
   "cell_type": "code",
   "execution_count": 2,
   "id": "c66ed69f",
   "metadata": {},
   "outputs": [],
   "source": [
    "#Para usar solo 24 cores que me dijo NW\n",
    "\n",
    "torch.set_num_threads(24)"
   ]
  },
  {
   "cell_type": "code",
   "execution_count": null,
   "id": "3606d4b1",
   "metadata": {},
   "outputs": [],
   "source": [
    "# Function to save the model \n",
    "def saveModel(model): \n",
    "    path = \"./Modelos_Fiteados/CLASIF/360salidas.pth\" \n",
    "    torch.save(model.state_dict(), path)"
   ]
  },
  {
   "cell_type": "code",
   "execution_count": 3,
   "id": "7debeade",
   "metadata": {},
   "outputs": [],
   "source": [
    "datatrain = torchvision.datasets.MNIST('./', train=True, download=True)\n",
    "datatest = torchvision.datasets.MNIST('./', train=False, download=True)\n",
    "\n",
    "m=len(datatrain)\n",
    "\n",
    "train_data, val_data = random_split(datatrain, [int(m-m*0.2), int(m*0.2)])"
   ]
  },
  {
   "cell_type": "code",
   "execution_count": 4,
   "id": "cea9589e",
   "metadata": {},
   "outputs": [],
   "source": [
    "X_train = [x[0] for x in train_data]\n",
    "y_train = [x[1] for x in train_data]\n",
    "\n",
    "X_val = [x[0] for x in val_data]\n",
    "y_val = [x[1] for x in val_data]\n",
    "\n",
    "X_test = [x[0] for x in datatest]\n",
    "y_test = [x[1] for x in datatest]"
   ]
  },
  {
   "cell_type": "code",
   "execution_count": 5,
   "id": "ab73f478",
   "metadata": {},
   "outputs": [],
   "source": [
    "RX_train = [0]*(20*len(X_train))\n",
    "RY_train = [0]*(20*len(X_train))\n",
    "\n",
    "RX_val = [0]*(20*len(X_val))\n",
    "RY_val = [0]*(20*len(X_val))\n",
    "\n",
    "RX_test = [0]*(20*len(X_test))\n",
    "RY_test = [0]*(20*len(X_test))"
   ]
  },
  {
   "cell_type": "code",
   "execution_count": 6,
   "id": "496e7857",
   "metadata": {},
   "outputs": [],
   "source": [
    "rotador = torchvision.transforms.functional.rotate"
   ]
  },
  {
   "cell_type": "code",
   "execution_count": 7,
   "id": "57f4d005",
   "metadata": {},
   "outputs": [],
   "source": [
    "for i in range(len(X_train)):\n",
    "    for j in range(20):\n",
    "        ang = np.random.randint(0,359)\n",
    "        RX_train[i*20+j]=rotador(X_train[i],ang)\n",
    "        RY_train[i*20+j]= ang\n",
    "        \n",
    "for i in range(len(X_val)):\n",
    "    for j in range(20):\n",
    "        ang = np.random.randint(0,359)\n",
    "        RX_val[i*20+j]=rotador(X_val[i],ang)\n",
    "        RY_val[i*20+j]= ang\n",
    "        \n",
    "        \n",
    "for i in range(len(X_test)):\n",
    "    for j in range(20):\n",
    "        ang = np.random.randint(0,359)\n",
    "        RX_test[i*20+j]=rotador(X_test[i],ang)\n",
    "        RY_test[i*20+j]= ang"
   ]
  },
  {
   "cell_type": "code",
   "execution_count": null,
   "id": "8708c022",
   "metadata": {},
   "outputs": [],
   "source": [
    "# print(RY_test)"
   ]
  },
  {
   "cell_type": "code",
   "execution_count": 8,
   "id": "ffec9553",
   "metadata": {},
   "outputs": [],
   "source": [
    "to_tensor = torchvision.transforms.ToTensor()"
   ]
  },
  {
   "cell_type": "code",
   "execution_count": 9,
   "id": "33512884",
   "metadata": {},
   "outputs": [],
   "source": [
    "tensor_RX_train = [to_tensor(RX_train[i]).unsqueeze(0) for i in range(len(RX_train))]\n",
    "tensor_RX_train = torch.cat(tensor_RX_train)\n",
    "\n",
    "tensor_RY_train = torch.Tensor(RY_train).long()\n",
    "\n",
    "######\n",
    "\n",
    "tensor_RX_val = [to_tensor(RX_val[i]).unsqueeze(0) for i in range(len(RX_val))]\n",
    "tensor_RX_val = torch.cat(tensor_RX_val)\n",
    "\n",
    "tensor_RY_val = torch.Tensor(RY_val).long()\n",
    "\n",
    "######\n",
    "\n",
    "tensor_RX_test = [to_tensor(RX_test[i]).unsqueeze(0) for i in range(len(RX_test))]\n",
    "tensor_RX_test = torch.cat(tensor_RX_test)\n",
    "\n",
    "tensor_RY_test = torch.Tensor(RY_test).long()"
   ]
  },
  {
   "cell_type": "code",
   "execution_count": 10,
   "id": "6140658e",
   "metadata": {},
   "outputs": [],
   "source": [
    "tensor_datatrain = TensorDataset(tensor_RX_train, tensor_RY_train)\n",
    "train_loader = DataLoader(tensor_datatrain, batch_size=5000, shuffle=True)\n",
    "\n",
    "tensor_dataval = TensorDataset(tensor_RX_val, tensor_RY_val)\n",
    "valid_loader = DataLoader(tensor_dataval, batch_size=5000, shuffle=True)\n",
    "\n",
    "tensor_datatest = TensorDataset(tensor_RX_test, tensor_RY_test)\n",
    "test_loader = DataLoader(tensor_datatest, batch_size=1)"
   ]
  },
  {
   "cell_type": "code",
   "execution_count": 11,
   "id": "4202d191",
   "metadata": {},
   "outputs": [],
   "source": [
    "class Net(nn.Module):    \n",
    "    def __init__(self,nf):\n",
    "        super(Net, self).__init__()\n",
    "        self.conv1 = nn.Conv2d(1, nf, 3)\n",
    "        self.pool = nn.MaxPool2d(2, 2)\n",
    "        self.conv2 = nn.Conv2d(nf, nf, 3)\n",
    "        self.fc1 = nn.Linear(nf*12*12, 1024)\n",
    "        self.fc2 = nn.Linear(1024, 360)\n",
    "        self.drop = nn.Dropout(0.25)\n",
    "        self.soft = nn.Softmax()\n",
    "\n",
    "    def forward(self, x):\n",
    "        # Apply net\n",
    "        x = F.relu(self.conv1(x))\n",
    "        x = self.pool(F.relu(self.conv2(x)))\n",
    "        x = self.drop(x)\n",
    "        x = torch.flatten(x, 1) # flatten all dimensions except batch\n",
    "        x = F.relu(self.fc1(x))\n",
    "        x = self.drop(x)\n",
    "        x = self.fc2(x)\n",
    "        return x"
   ]
  },
  {
   "cell_type": "markdown",
   "id": "b1b4c1fc",
   "metadata": {},
   "source": [
    "## Entrenamiento"
   ]
  },
  {
   "cell_type": "code",
   "execution_count": 12,
   "id": "9523b7e7",
   "metadata": {},
   "outputs": [
    {
     "name": "stdout",
     "output_type": "stream",
     "text": [
      "Selected device: cpu\n"
     ]
    },
    {
     "data": {
      "text/plain": [
       "Net(\n",
       "  (conv1): Conv2d(1, 64, kernel_size=(3, 3), stride=(1, 1))\n",
       "  (pool): MaxPool2d(kernel_size=2, stride=2, padding=0, dilation=1, ceil_mode=False)\n",
       "  (conv2): Conv2d(64, 64, kernel_size=(3, 3), stride=(1, 1))\n",
       "  (fc1): Linear(in_features=9216, out_features=1024, bias=True)\n",
       "  (fc2): Linear(in_features=1024, out_features=360, bias=True)\n",
       "  (drop): Dropout(p=0.25, inplace=False)\n",
       "  (soft): Softmax(dim=None)\n",
       ")"
      ]
     },
     "execution_count": 12,
     "metadata": {},
     "output_type": "execute_result"
    }
   ],
   "source": [
    "nf=64\n",
    "CLASIF = Net(nf)\n",
    "\n",
    "#Definimos la loss function\n",
    "loss_fn = nn.CrossEntropyLoss()\n",
    "# Definimos el optimizador\n",
    "optimizer = torch.optim.Adam(CLASIF.parameters(), lr=0.001, weight_decay=0.0001 )\n",
    "\n",
    "# Check if the GPU is available\n",
    "device = torch.device(\"cuda\") if torch.cuda.is_available() else torch.device(\"cpu\")\n",
    "print(f'Selected device: {device}')\n",
    "\n",
    "#Send model to device\n",
    "CLASIF.to(device)\n"
   ]
  },
  {
   "cell_type": "code",
   "execution_count": 13,
   "id": "ae00f8a6",
   "metadata": {},
   "outputs": [],
   "source": [
    "### Training function\n",
    "def train_epoch(CLASIF, device, dataloader, loss_fn, optimizer):\n",
    "    # Set train mode for both the encoder and the decoder\n",
    "    CLASIF.train()\n",
    "    train_loss = []\n",
    "    # Iterate the dataloader\n",
    "    for image_batch, label in dataloader: \n",
    "        # Move tensor to the proper device\n",
    "        image_batch = image_batch.to(device)\n",
    "        label = label.to(device)\n",
    "        #utputs\n",
    "        decoded_data = CLASIF.forward(image_batch)\n",
    "        # Evaluate loss\n",
    "        loss = loss_fn(decoded_data, label)\n",
    "        # Backward pass\n",
    "        optimizer.zero_grad()\n",
    "        loss.backward()\n",
    "        optimizer.step()\n",
    "        # Print batch loss\n",
    "        #print('\\t partial train loss (single batch): %f' % (loss.data))\n",
    "        train_loss.append(loss.detach().cpu().numpy())\n",
    "        \n",
    "    return np.mean(train_loss)"
   ]
  },
  {
   "cell_type": "code",
   "execution_count": 14,
   "id": "9984e4e4",
   "metadata": {},
   "outputs": [],
   "source": [
    "### Testing function\n",
    "def test_epoch(CLASIF, device, dataloader, loss_fn):\n",
    "    # Set evaluation mode for encoder and decoder\n",
    "    CLASIF.eval()\n",
    "    with torch.no_grad(): # No need to track the gradients\n",
    "        # Define the lists to store the outputs for each batch\n",
    "        conc_out = []\n",
    "        conc_label = []\n",
    "        for image_batch, label in dataloader:\n",
    "            # Move tensor to the proper device\n",
    "            image_batch = image_batch.to(device)\n",
    "            # output\n",
    "            decoded_data = CLASIF.forward(image_batch)\n",
    "            # Append the network output and the original image to the lists\n",
    "            conc_out.append(decoded_data.cpu())\n",
    "            conc_label.append(label.cpu())\n",
    "        # Create a single tensor with all the values in the lists\n",
    "        conc_out = torch.cat(conc_out)\n",
    "        conc_label = torch.cat(conc_label) \n",
    "        # Evaluate global loss\n",
    "        val_loss = loss_fn(conc_out, conc_label)\n",
    "    return val_loss.data"
   ]
  },
  {
   "cell_type": "code",
   "execution_count": null,
   "id": "c1f3d3cb",
   "metadata": {},
   "outputs": [],
   "source": [
    "def early_stopping(train_loss, validation_loss, min_delta, tolerance):\n",
    "\n",
    "    counter = 0\n",
    "    if (validation_loss - train_loss) > min_delta:\n",
    "        counter[0] +=1\n",
    "        if counter >= tolerance:\n",
    "            return True"
   ]
  },
  {
   "cell_type": "code",
   "execution_count": 15,
   "id": "860bf34a",
   "metadata": {},
   "outputs": [
    {
     "name": "stderr",
     "output_type": "stream",
     "text": [
      "  3%|██▌                                                                           | 1/30 [05:49<2:48:50, 349.32s/it]"
     ]
    },
    {
     "name": "stdout",
     "output_type": "stream",
     "text": [
      "\n",
      " EPOCH 1/30 \t train loss_1 3.6426429748535156 \t train loss_2 1.5296937227249146 \t val loss 1.5685231685638428\n"
     ]
    },
    {
     "name": "stderr",
     "output_type": "stream",
     "text": [
      "\r",
      "  7%|█████▏                                                                        | 2/30 [11:38<2:42:55, 349.14s/it]"
     ]
    },
    {
     "name": "stdout",
     "output_type": "stream",
     "text": [
      "\n",
      " EPOCH 2/30 \t train loss_1 1.0665861368179321 \t train loss_2 0.4079921543598175 \t val loss 0.44010230898857117\n"
     ]
    },
    {
     "name": "stderr",
     "output_type": "stream",
     "text": [
      "\r",
      " 10%|███████▊                                                                      | 3/30 [17:27<2:37:05, 349.09s/it]"
     ]
    },
    {
     "name": "stdout",
     "output_type": "stream",
     "text": [
      "\n",
      " EPOCH 3/30 \t train loss_1 0.5530864000320435 \t train loss_2 0.2584906220436096 \t val loss 0.2912296950817108\n"
     ]
    },
    {
     "name": "stderr",
     "output_type": "stream",
     "text": [
      "\r",
      " 13%|██████████▍                                                                   | 4/30 [23:15<2:31:10, 348.86s/it]"
     ]
    },
    {
     "name": "stdout",
     "output_type": "stream",
     "text": [
      "\n",
      " EPOCH 4/30 \t train loss_1 0.421066552400589 \t train loss_2 0.2094358503818512 \t val loss 0.24408911168575287\n"
     ]
    },
    {
     "name": "stderr",
     "output_type": "stream",
     "text": [
      "\r",
      " 17%|█████████████                                                                 | 5/30 [29:04<2:25:15, 348.60s/it]"
     ]
    },
    {
     "name": "stdout",
     "output_type": "stream",
     "text": [
      "\n",
      " EPOCH 5/30 \t train loss_1 0.3581044375896454 \t train loss_2 0.18384039402008057 \t val loss 0.2204175591468811\n"
     ]
    },
    {
     "name": "stderr",
     "output_type": "stream",
     "text": [
      "\r",
      " 20%|███████████████▌                                                              | 6/30 [34:51<2:19:21, 348.39s/it]"
     ]
    },
    {
     "name": "stdout",
     "output_type": "stream",
     "text": [
      "\n",
      " EPOCH 6/30 \t train loss_1 0.3215969502925873 \t train loss_2 0.16637860238552094 \t val loss 0.2044098973274231\n"
     ]
    },
    {
     "name": "stderr",
     "output_type": "stream",
     "text": [
      "\r",
      " 23%|██████████████████▏                                                           | 7/30 [40:40<2:13:30, 348.28s/it]"
     ]
    },
    {
     "name": "stdout",
     "output_type": "stream",
     "text": [
      "\n",
      " EPOCH 7/30 \t train loss_1 0.29558828473091125 \t train loss_2 0.15445303916931152 \t val loss 0.1928345412015915\n"
     ]
    },
    {
     "name": "stderr",
     "output_type": "stream",
     "text": [
      "\r",
      " 27%|████████████████████▊                                                         | 8/30 [46:27<2:07:38, 348.10s/it]"
     ]
    },
    {
     "name": "stdout",
     "output_type": "stream",
     "text": [
      "\n",
      " EPOCH 8/30 \t train loss_1 0.2788691520690918 \t train loss_2 0.14727512001991272 \t val loss 0.18732307851314545\n"
     ]
    },
    {
     "name": "stderr",
     "output_type": "stream",
     "text": [
      "\r",
      " 30%|███████████████████████▍                                                      | 9/30 [52:15<2:01:49, 348.08s/it]"
     ]
    },
    {
     "name": "stdout",
     "output_type": "stream",
     "text": [
      "\n",
      " EPOCH 9/30 \t train loss_1 0.2651923596858978 \t train loss_2 0.1433723419904709 \t val loss 0.18423490226268768\n"
     ]
    },
    {
     "name": "stderr",
     "output_type": "stream",
     "text": [
      "\r",
      " 33%|█████████████████████████▋                                                   | 10/30 [58:03<1:55:59, 347.96s/it]"
     ]
    },
    {
     "name": "stdout",
     "output_type": "stream",
     "text": [
      "\n",
      " EPOCH 10/30 \t train loss_1 0.2529190480709076 \t train loss_2 0.13549412786960602 \t val loss 0.1757502555847168\n"
     ]
    },
    {
     "name": "stderr",
     "output_type": "stream",
     "text": [
      "\r",
      " 37%|███████████████████████████▍                                               | 11/30 [1:03:51<1:50:09, 347.88s/it]"
     ]
    },
    {
     "name": "stdout",
     "output_type": "stream",
     "text": [
      "\n",
      " EPOCH 11/30 \t train loss_1 0.24550604820251465 \t train loss_2 0.13033802807331085 \t val loss 0.17241907119750977\n"
     ]
    },
    {
     "name": "stderr",
     "output_type": "stream",
     "text": [
      "\r",
      " 40%|██████████████████████████████                                             | 12/30 [1:09:38<1:44:20, 347.81s/it]"
     ]
    },
    {
     "name": "stdout",
     "output_type": "stream",
     "text": [
      "\n",
      " EPOCH 12/30 \t train loss_1 0.2375950664281845 \t train loss_2 0.13101790845394135 \t val loss 0.1747082620859146\n"
     ]
    },
    {
     "name": "stderr",
     "output_type": "stream",
     "text": [
      "\r",
      " 43%|████████████████████████████████▌                                          | 13/30 [1:15:26<1:38:32, 347.78s/it]"
     ]
    },
    {
     "name": "stdout",
     "output_type": "stream",
     "text": [
      "\n",
      " EPOCH 13/30 \t train loss_1 0.2314566820859909 \t train loss_2 0.1256030797958374 \t val loss 0.16914749145507812\n"
     ]
    },
    {
     "name": "stderr",
     "output_type": "stream",
     "text": [
      "\r",
      " 47%|███████████████████████████████████                                        | 14/30 [1:21:13<1:32:42, 347.64s/it]"
     ]
    },
    {
     "name": "stdout",
     "output_type": "stream",
     "text": [
      "\n",
      " EPOCH 14/30 \t train loss_1 0.2265269160270691 \t train loss_2 0.12404467165470123 \t val loss 0.16776719689369202\n"
     ]
    },
    {
     "name": "stderr",
     "output_type": "stream",
     "text": [
      "\r",
      " 50%|█████████████████████████████████████▌                                     | 15/30 [1:27:01<1:26:55, 347.72s/it]"
     ]
    },
    {
     "name": "stdout",
     "output_type": "stream",
     "text": [
      "\n",
      " EPOCH 15/30 \t train loss_1 0.22155706584453583 \t train loss_2 0.12090098112821579 \t val loss 0.16596142947673798\n"
     ]
    },
    {
     "name": "stderr",
     "output_type": "stream",
     "text": [
      "\r",
      " 53%|████████████████████████████████████████                                   | 16/30 [1:32:49<1:21:07, 347.65s/it]"
     ]
    },
    {
     "name": "stdout",
     "output_type": "stream",
     "text": [
      "\n",
      " EPOCH 16/30 \t train loss_1 0.2170974761247635 \t train loss_2 0.11828596889972687 \t val loss 0.16414839029312134\n"
     ]
    },
    {
     "name": "stderr",
     "output_type": "stream",
     "text": [
      "\r",
      " 57%|██████████████████████████████████████████▌                                | 17/30 [1:38:36<1:15:18, 347.57s/it]"
     ]
    },
    {
     "name": "stdout",
     "output_type": "stream",
     "text": [
      "\n",
      " EPOCH 17/30 \t train loss_1 0.21273933351039886 \t train loss_2 0.11781660467386246 \t val loss 0.16519787907600403\n"
     ]
    },
    {
     "name": "stderr",
     "output_type": "stream",
     "text": [
      "\r",
      " 60%|█████████████████████████████████████████████                              | 18/30 [1:44:23<1:09:29, 347.46s/it]"
     ]
    },
    {
     "name": "stdout",
     "output_type": "stream",
     "text": [
      "\n",
      " EPOCH 18/30 \t train loss_1 0.2100573033094406 \t train loss_2 0.11474303156137466 \t val loss 0.16223278641700745\n"
     ]
    },
    {
     "name": "stderr",
     "output_type": "stream",
     "text": [
      "\r",
      " 63%|███████████████████████████████████████████████▌                           | 19/30 [1:50:11<1:03:41, 347.42s/it]"
     ]
    },
    {
     "name": "stdout",
     "output_type": "stream",
     "text": [
      "\n",
      " EPOCH 19/30 \t train loss_1 0.206887885928154 \t train loss_2 0.11367134749889374 \t val loss 0.16116108000278473\n"
     ]
    },
    {
     "name": "stderr",
     "output_type": "stream",
     "text": [
      "\r",
      " 67%|███████████████████████████████████████████████████▎                         | 20/30 [1:55:59<57:58, 347.81s/it]"
     ]
    },
    {
     "name": "stdout",
     "output_type": "stream",
     "text": [
      "\n",
      " EPOCH 20/30 \t train loss_1 0.20406006276607513 \t train loss_2 0.11089306324720383 \t val loss 0.15764214098453522\n"
     ]
    },
    {
     "name": "stderr",
     "output_type": "stream",
     "text": [
      "\r",
      " 70%|█████████████████████████████████████████████████████▉                       | 21/30 [2:01:52<52:23, 349.24s/it]"
     ]
    },
    {
     "name": "stdout",
     "output_type": "stream",
     "text": [
      "\n",
      " EPOCH 21/30 \t train loss_1 0.20189166069030762 \t train loss_2 0.11278355866670609 \t val loss 0.16113561391830444\n"
     ]
    },
    {
     "name": "stderr",
     "output_type": "stream",
     "text": [
      "\r",
      " 73%|████████████████████████████████████████████████████████▍                    | 22/30 [2:07:44<46:41, 350.21s/it]"
     ]
    },
    {
     "name": "stdout",
     "output_type": "stream",
     "text": [
      "\n",
      " EPOCH 22/30 \t train loss_1 0.1982402205467224 \t train loss_2 0.1118159294128418 \t val loss 0.16053372621536255\n"
     ]
    },
    {
     "name": "stderr",
     "output_type": "stream",
     "text": [
      "\r",
      " 77%|███████████████████████████████████████████████████████████                  | 23/30 [2:13:37<40:55, 350.85s/it]"
     ]
    },
    {
     "name": "stdout",
     "output_type": "stream",
     "text": [
      "\n",
      " EPOCH 23/30 \t train loss_1 0.19495217502117157 \t train loss_2 0.10944678634405136 \t val loss 0.1590849906206131\n"
     ]
    },
    {
     "name": "stderr",
     "output_type": "stream",
     "text": [
      "\r",
      " 80%|█████████████████████████████████████████████████████████████▌               | 24/30 [2:19:29<35:07, 351.28s/it]"
     ]
    },
    {
     "name": "stdout",
     "output_type": "stream",
     "text": [
      "\n",
      " EPOCH 24/30 \t train loss_1 0.19468240439891815 \t train loss_2 0.10753392428159714 \t val loss 0.15733003616333008\n"
     ]
    },
    {
     "name": "stderr",
     "output_type": "stream",
     "text": [
      "\r",
      " 83%|████████████████████████████████████████████████████████████████▏            | 25/30 [2:25:21<29:17, 351.54s/it]"
     ]
    },
    {
     "name": "stdout",
     "output_type": "stream",
     "text": [
      "\n",
      " EPOCH 25/30 \t train loss_1 0.1915072649717331 \t train loss_2 0.10689586400985718 \t val loss 0.15831072628498077\n"
     ]
    },
    {
     "name": "stderr",
     "output_type": "stream",
     "text": [
      "\r",
      " 87%|██████████████████████████████████████████████████████████████████▋          | 26/30 [2:31:14<23:27, 351.79s/it]"
     ]
    },
    {
     "name": "stdout",
     "output_type": "stream",
     "text": [
      "\n",
      " EPOCH 26/30 \t train loss_1 0.19007371366024017 \t train loss_2 0.10441309958696365 \t val loss 0.1554991751909256\n"
     ]
    },
    {
     "name": "stderr",
     "output_type": "stream",
     "text": [
      "\r",
      " 90%|█████████████████████████████████████████████████████████████████████▎       | 27/30 [2:37:06<17:36, 352.11s/it]"
     ]
    },
    {
     "name": "stdout",
     "output_type": "stream",
     "text": [
      "\n",
      " EPOCH 27/30 \t train loss_1 0.18699724972248077 \t train loss_2 0.10304107517004013 \t val loss 0.15398572385311127\n"
     ]
    },
    {
     "name": "stderr",
     "output_type": "stream",
     "text": [
      "\r",
      " 93%|███████████████████████████████████████████████████████████████████████▊     | 28/30 [2:42:58<11:43, 351.80s/it]"
     ]
    },
    {
     "name": "stdout",
     "output_type": "stream",
     "text": [
      "\n",
      " EPOCH 28/30 \t train loss_1 0.18596147000789642 \t train loss_2 0.10196805000305176 \t val loss 0.15335923433303833\n"
     ]
    },
    {
     "name": "stderr",
     "output_type": "stream",
     "text": [
      "\r",
      " 97%|██████████████████████████████████████████████████████████████████████████▍  | 29/30 [2:48:48<05:51, 351.44s/it]"
     ]
    },
    {
     "name": "stdout",
     "output_type": "stream",
     "text": [
      "\n",
      " EPOCH 29/30 \t train loss_1 0.1842392086982727 \t train loss_2 0.10294345021247864 \t val loss 0.1545894891023636\n"
     ]
    },
    {
     "name": "stderr",
     "output_type": "stream",
     "text": [
      "100%|█████████████████████████████████████████████████████████████████████████████| 30/30 [2:54:39<00:00, 349.31s/it]"
     ]
    },
    {
     "name": "stdout",
     "output_type": "stream",
     "text": [
      "\n",
      " EPOCH 30/30 \t train loss_1 0.1832636594772339 \t train loss_2 0.10122878104448318 \t val loss 0.15398947894573212\n"
     ]
    },
    {
     "name": "stderr",
     "output_type": "stream",
     "text": [
      "\n"
     ]
    }
   ],
   "source": [
    "num_epochs = 30\n",
    "diz_loss = {'train_loss_1':[], 'train_loss_2':[], 'val_loss':[]}\n",
    "for epoch in tqdm(range(num_epochs)):\n",
    "    train_loss_1 =train_epoch(CLASIF,\n",
    "                             device,\n",
    "                            train_loader,\n",
    "                            loss_fn,\n",
    "                            optimizer)\n",
    "    train_loss_2 = test_epoch(CLASIF,\n",
    "                          device,\n",
    "                          train_loader,\n",
    "                          loss_fn)\n",
    "    val_loss = test_epoch(CLASIF,\n",
    "                          device,\n",
    "                          valid_loader,\n",
    "                          loss_fn)\n",
    "    print('\\n EPOCH {}/{} \\t train loss_1 {} \\t train loss_2 {} \\t val loss {}'.format(epoch + 1, num_epochs,train_loss_1,train_loss_2,val_loss))\n",
    "    diz_loss['train_loss_1'].append(train_loss_1)\n",
    "    diz_loss['train_loss_2'].append(train_loss_2)\n",
    "    diz_loss['val_loss'].append(val_loss)\n",
    "#     plot_ae_outputs(AEC, n=10)\n",
    "\n",
    "# # early stopping\n",
    "#     if early_stopping(train_loss, val_loss, min_delta=0.001, tolerance = 5):\n",
    "#       print(\"We are at epoch:\", i)\n",
    "#       break"
   ]
  },
  {
   "cell_type": "code",
   "execution_count": null,
   "id": "ffa1199b",
   "metadata": {},
   "outputs": [],
   "source": [
    "saveModel(CLASIF)"
   ]
  },
  {
   "cell_type": "code",
   "execution_count": null,
   "id": "749bd847",
   "metadata": {},
   "outputs": [],
   "source": [
    "CLASIF.load_state_dict(torch.load(\"./Modelos_Fiteados/CLASIF/360salidas.pth\"))"
   ]
  },
  {
   "cell_type": "code",
   "execution_count": 16,
   "id": "1ed7fce7",
   "metadata": {},
   "outputs": [],
   "source": [
    "np.savetxt('./Modelos_Fiteados/losses/CLASIF/Nuevas_loss/errorTest_360_1',diz_loss['train_loss_1'])\n",
    "np.savetxt('./Modelos_Fiteados/losses/CLASIF/Nuevas_loss/errorTest_360_2',diz_loss['train_loss_2'])\n",
    "np.savetxt('./Modelos_Fiteados/losses/AEC/Nuevas_loss/errorVal_360',diz_loss['val_loss'])\n",
    "\n",
    "# train_coso = np.loadtxt('./Modelos_Fiteados/losses/CLASIF/test_360salidas')\n",
    "# val_coso = np.loadtxt('./Modelos_Fiteados/losses/AEC/val_360salidas')"
   ]
  },
  {
   "cell_type": "code",
   "execution_count": 17,
   "id": "d48c6e8d",
   "metadata": {},
   "outputs": [
    {
     "data": {
      "image/png": "[encoded data removed]",
      "text/plain": [
       "<Figure size 504x360 with 1 Axes>"
      ]
     },
     "metadata": {
      "needs_background": "light"
     },
     "output_type": "display_data"
    }
   ],
   "source": [
    "# Plot losses by epoch\n",
    "plt.figure(figsize=(7,5))\n",
    "plt.plot(diz_loss['train_loss_2'], linestyle='--', marker='o',  label='Train loss', c='mediumaquamarine')\n",
    "plt.plot(diz_loss['val_loss'], linestyle='--', marker='o', label='Valid loss', c='darkviolet')\n",
    "plt.xlabel('Época',fontsize=15)\n",
    "plt.ylabel('Loss',fontsize=15)\n",
    "plt.title(\"Función de costo\",fontsize=15)\n",
    "plt.grid()\n",
    "plt.legend()\n",
    "plt.savefig('./Modelos_Fiteados/Imagenes/CLASIF/errores_360.png', format='png')\n",
    "plt.show()"
   ]
  },
  {
   "cell_type": "markdown",
   "id": "487f648d",
   "metadata": {},
   "source": [
    "### Veamos la matriz de confusion y metricas"
   ]
  },
  {
   "cell_type": "code",
   "execution_count": null,
   "id": "4118217d",
   "metadata": {},
   "outputs": [],
   "source": [
    "test_acc = 0\n",
    "\n",
    "y_test=[]\n",
    "y_pred=[]\n",
    "label=[]\n",
    "pred=[]\n",
    "\n",
    "CLASIF.to(device)\n",
    "\n",
    "with torch.no_grad():\n",
    "    for x_batched, y_batched in test_loader:\n",
    "        # Move data to device\n",
    "        x_batched = x_batched.to(device)\n",
    "        y_batched = y_batched.to(device)\n",
    "        \n",
    "#         print('blabla')\n",
    "\n",
    "        # forward the data\n",
    "        out = CLASIF.forward(x_batched)\n",
    "\n",
    "        y_test = (y_batched.detach().cpu().numpy())\n",
    "        y_pred = (np.argmax(out.detach().cpu().numpy(), axis = 1))\n",
    "        label.extend(y_test)\n",
    "        pred.extend(y_pred)\n",
    "        \n",
    "        right = np.sum(y_pred == y_test)\n",
    "        test_acc = test_acc + right\n",
    "\n",
    "print(f\"The obtained accuracy is {test_acc/len(RY_test)*100} %\")"
   ]
  },
  {
   "cell_type": "code",
   "execution_count": null,
   "id": "8c18c98a",
   "metadata": {},
   "outputs": [],
   "source": [
    "plt.figure(figsize=(10,10))\n",
    "plt.scatter(label, pred, marker=\".\", s=5, alpha=.2, c='blueviolet')\n",
    "# plt.plot(np.linspace(3,360, num=100),np.linspace(0,360, num=100), linestyle='--', c='orange')\n",
    "plt.xlabel('Valor REAL',fontsize=15)\n",
    "plt.ylabel('Valor PREDICHO',fontsize=15)\n",
    "plt.title(\"Dispersión de valores predichos\",fontsize=15)\n",
    "plt.grid()\n",
    "plt.savefig('./Modelos_Fiteados/Imagenes/CLASIF/disper_360salidas.png', format='png')\n",
    "plt.show()"
   ]
  },
  {
   "cell_type": "code",
   "execution_count": null,
   "id": "3e483322",
   "metadata": {},
   "outputs": [],
   "source": [
    "def confussion_plot(real, prediction):\n",
    "    categories = ['Clase 1', 'Clase 2', 'Clase 3', 'Clase 4']\n",
    "\n",
    "    array = confusion_matrix(real, prediction, normalize=\"true\")\n",
    "    df_cm = pd.DataFrame(array, index = [i for i in categories], columns = [i for i in categories])\n",
    "    \n",
    "    fig = plt.figure(figsize=(8,7))\n",
    "    sn.heatmap(df_cm, annot=True, fmt='.3f', cmap='viridis')\n",
    "    plt.ylabel(\"Labels\",fontsize=15)\n",
    "    plt.xlabel(\"Prediccion\",fontsize=15)\n",
    "    plt.title(\"Matríz de Confusión\",fontsize=15)\n",
    "    plt.savefig('./Modelos_Fiteados/Imagenes/CLASIF/CM_30_norm.png', format='png')\n",
    "    plt.show()"
   ]
  },
  {
   "cell_type": "code",
   "execution_count": null,
   "id": "4ea10af7",
   "metadata": {},
   "outputs": [],
   "source": [
    "confussion_plot(label, pred)"
   ]
  }
 ],
 "metadata": {
  "kernelspec": {
   "display_name": "Python 3 (ipykernel)",
   "language": "python",
   "name": "python3"
  },
  "language_info": {
   "codemirror_mode": {
    "name": "ipython",
    "version": 3
   },
   "file_extension": ".py",
   "mimetype": "text/x-python",
   "name": "python",
   "nbconvert_exporter": "python",
   "pygments_lexer": "ipython3",
   "version": "3.9.0"
  }
 },
 "nbformat": 4,
 "nbformat_minor": 5
}
