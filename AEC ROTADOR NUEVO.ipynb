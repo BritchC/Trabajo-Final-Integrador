{
 "cells": [
  {
   "cell_type": "code",
   "execution_count": 1,
   "id": "27c5b2fa",
   "metadata": {},
   "outputs": [],
   "source": [
    "import numpy as np\n",
    "import pandas as pd\n",
    "import matplotlib.pyplot as plt\n",
    "\n",
    "import torch\n",
    "import torchvision\n",
    "import torchvision.transforms as transforms\n",
    "\n",
    "from torch.utils.data import TensorDataset, DataLoader, random_split\n",
    "\n",
    "import torch.nn as nn\n",
    "import torch.nn.functional as F\n",
    "import torch.optim as optim\n",
    "\n",
    "import random\n",
    "from tqdm import tqdm #para poder ver las barritas de % cargandose cuando va iterando\n",
    "from PIL import Image as im"
   ]
  },
  {
   "cell_type": "code",
   "execution_count": 2,
   "id": "632d33e2",
   "metadata": {},
   "outputs": [],
   "source": [
    "#Para usar solo 24 cores que me dijo NW\n",
    "torch.set_num_threads(24)\n",
    "\n",
    "# Set seeds for reproducibility (PyTorch, Python, Numpy)\n",
    "matricola = 2013031\n",
    "torch.manual_seed(matricola)\n",
    "random.seed(matricola)\n",
    "np.random.seed(matricola)"
   ]
  },
  {
   "cell_type": "code",
   "execution_count": 3,
   "id": "40d0681d",
   "metadata": {},
   "outputs": [],
   "source": [
    "# Function to save the model \n",
    "def saveModel(model): \n",
    "    path = \"./Modelos_Fiteados/AEC/AEC_ultima.pth\" \n",
    "    torch.save(model.state_dict(), path)"
   ]
  },
  {
   "cell_type": "code",
   "execution_count": 4,
   "id": "2af2e05f",
   "metadata": {},
   "outputs": [],
   "source": [
    "#Bajo el MNIST\n",
    "train_dataset = torchvision.datasets.MNIST('./', train=True, download=True)\n",
    "test_dataset = torchvision.datasets.MNIST('./', train=False, download=True)\n",
    "\n",
    "m=len(train_dataset)\n",
    "\n",
    "train_data, val_data = random_split(train_dataset, [int(m-m*0.2), int(m*0.2)])"
   ]
  },
  {
   "cell_type": "code",
   "execution_count": 5,
   "id": "5865bac9",
   "metadata": {},
   "outputs": [
    {
     "name": "stdout",
     "output_type": "stream",
     "text": [
      "48000 ---- 12000\n"
     ]
    }
   ],
   "source": [
    "print(int(m-m*0.2),'----',int(m*0.2))"
   ]
  },
  {
   "cell_type": "code",
   "execution_count": null,
   "id": "19e34bad",
   "metadata": {},
   "outputs": [],
   "source": [
    "# #Bajo el FashionMNIST\n",
    "# train_dataset = torchvision.datasets.FashionMNIST('./', train=True, download=True)\n",
    "# test_dataset = torchvision.datasets.FashionMNIST('./', train=False, download=True)\n",
    "\n",
    "# m=len(train_dataset)\n",
    "\n",
    "# train_data, val_data = random_split(train_dataset, [int(m-m*0.2), int(m*0.2)])"
   ]
  },
  {
   "cell_type": "code",
   "execution_count": 6,
   "id": "4cd206f5",
   "metadata": {},
   "outputs": [],
   "source": [
    "X_train = [x[0] for x in train_data]\n",
    "y_train = [x[1] for x in train_data]\n",
    "\n",
    "X_val = [x[0] for x in val_data]\n",
    "Y_val = [x[1] for x in val_data]\n",
    "\n",
    "X_test = [x[0] for x in test_dataset]\n",
    "Y_test = [x[1] for x in test_dataset]\n",
    "\n",
    "RX_train = [0]*(10*len(X_train))\n",
    "RY_train = [0]*(10*len(X_train))\n",
    "\n",
    "RX_val = [0]*(10*len(X_val))\n",
    "RY_val = [0]*(10*len(X_val))\n",
    "\n",
    "RX_test = [0]*(10*len(X_test))\n",
    "RY_test = [0]*(10*len(X_test))"
   ]
  },
  {
   "cell_type": "code",
   "execution_count": 7,
   "id": "1acd6fb8",
   "metadata": {},
   "outputs": [],
   "source": [
    "rotador = torchvision.transforms.functional.rotate"
   ]
  },
  {
   "cell_type": "code",
   "execution_count": 8,
   "id": "dc98b66d",
   "metadata": {},
   "outputs": [],
   "source": [
    "for i in range(len(X_train)):\n",
    "    for j in range(10):\n",
    "        ang = random.randint(-60,60)\n",
    "        RX_train[i*10+j]=rotador(X_train[i],ang)\n",
    "        RY_train[i*10+j]=X_train[i]\n",
    "        \n",
    "for i in range(len(X_val)):\n",
    "    for j in range(10):\n",
    "        ang = random.randint(-60,60)\n",
    "        RX_val[i*10+j]=rotador(X_val[i],ang)\n",
    "        RY_val[i*10+j]=X_val[i]\n",
    "    \n",
    "for i in range(len(X_test)):\n",
    "    for j in range(10):\n",
    "        ang = random.randint(-60,60)\n",
    "        RX_test[i*10+j]=rotador(X_test[i],ang)\n",
    "        RY_test[i*10+j]=X_test[i]"
   ]
  },
  {
   "cell_type": "code",
   "execution_count": null,
   "id": "42abe38e",
   "metadata": {},
   "outputs": [],
   "source": [
    "# print(RX_test[0].mode)\n",
    "\n",
    "# #torchvision.transforms.ToTensor[SOURCE]\n",
    "# # Convert a PIL Image or numpy.ndarray to tensor. This transform does not support torchscript.\n",
    "\n",
    "# # Converts a PIL Image or numpy.ndarray (H x W x C) in the range [0, 255] to a torch.FloatTensor \n",
    "# # of shape (C x H x W) in the range [0.0, 1.0] \n",
    "# # if the PIL Image belongs to one of the modes (L, LA, P, I, F, RGB, YCbCr, RGBA, CMYK, 1)\n",
    "# # or if the numpy.ndarray has dtype = np.uint8\n",
    "\n",
    "# # In the other cases, tensors are returned without scaling.\n",
    "\n",
    "\n",
    "# #ES L asi que tengo toda la data normalizada despues ! Joya"
   ]
  },
  {
   "cell_type": "code",
   "execution_count": null,
   "id": "8ae394db",
   "metadata": {},
   "outputs": [],
   "source": [
    "# # Plot some samples\n",
    "# fig, axs = plt.subplots(5, 5, figsize=(8,8))\n",
    "# i = 0\n",
    "# for ax in axs.flatten():\n",
    "#     # random.choice allows to randomly sample from a list-like object \n",
    "#     #(basically anything that can be accessed with an index, like our dataset)\n",
    "#     #img, label = random.choice(train_dataset)\n",
    "#     ax.imshow(np.array(RX_train[i*20]), cmap='gist_gray')\n",
    "# #     ax.set_title(f'Angle: {round((Rang_train[i*20]),2)}')\n",
    "#     ax.set_xticks([])\n",
    "#     ax.set_yticks([])\n",
    "#     i +=1\n",
    "# #plt.savefig('./Img/clothe_samples.svg', format='svg')\n",
    "# plt.tight_layout()"
   ]
  },
  {
   "cell_type": "code",
   "execution_count": 9,
   "id": "7b0f5516",
   "metadata": {},
   "outputs": [],
   "source": [
    "#hago la transformacion a tensores\n",
    "to_tensor = torchvision.transforms.ToTensor()\n",
    "\n",
    "#los convierto a tensores con la transformacion\n",
    "tensor_RX_train = [to_tensor(RX_train[i]).unsqueeze(0) for i in range(len(RX_train))]\n",
    "tensor_RX_train = torch.cat(tensor_RX_train)\n",
    "\n",
    "tensor_RY_train = [to_tensor(RY_train[i]).unsqueeze(0) for i in range(len(RY_train))]\n",
    "tensor_RY_train = torch.cat(tensor_RY_train)\n",
    "\n",
    "tensor_RX_val = [to_tensor(RX_val[i]).unsqueeze(0) for i in range(len(RX_val))]\n",
    "tensor_RX_val = torch.cat(tensor_RX_val)\n",
    "\n",
    "tensor_RY_val = [to_tensor(RY_val[i]).unsqueeze(0) for i in range(len(RY_val))]\n",
    "tensor_RY_val = torch.cat(tensor_RY_val)\n",
    "\n",
    "tensor_RX_test = [to_tensor(RX_test[i]).unsqueeze(0) for i in range(len(RX_test))]\n",
    "tensor_RX_test = torch.cat(tensor_RX_test)\n",
    "\n",
    "tensor_RY_test = [to_tensor(RY_test[i]).unsqueeze(0) for i in range(len(RY_test))]\n",
    "tensor_RY_test = torch.cat(tensor_RY_test)"
   ]
  },
  {
   "cell_type": "code",
   "execution_count": 10,
   "id": "db98d958",
   "metadata": {},
   "outputs": [],
   "source": [
    "#Datasets\n",
    "tensor_datatrain = TensorDataset(tensor_RX_train, tensor_RY_train)\n",
    "train_loader = DataLoader(tensor_datatrain, batch_size=5000, shuffle=True)\n",
    "\n",
    "tensor_dataval = TensorDataset(tensor_RX_val, tensor_RY_val)\n",
    "val_loader = DataLoader(tensor_dataval, batch_size=5000, shuffle=True)\n",
    "\n",
    "tensor_datatest = TensorDataset(tensor_RX_test, tensor_RY_test)\n",
    "test_loader = DataLoader(tensor_datatest, batch_size=1)"
   ]
  },
  {
   "cell_type": "code",
   "execution_count": 11,
   "id": "1c2539e7",
   "metadata": {},
   "outputs": [],
   "source": [
    "class Autoencoder(nn.Module):\n",
    "    def __init__(self, nf, latent_dim):\n",
    "        super().__init__()\n",
    "        \n",
    "        ### Encoder\n",
    "        self.encoder = nn.Sequential(nn.Conv2d(in_channels  = 1,       # First convolutional layer\n",
    "                                               out_channels = nf,\n",
    "                                               kernel_size  = 3,\n",
    "                                               stride       = 1,\n",
    "                                               padding      = 1),\n",
    "                                     nn.ReLU(True),                    \n",
    "                                     nn.Conv2d(in_channels  = nf,      # Second convolutional layer\n",
    "                                               out_channels = 2 * nf,\n",
    "                                               kernel_size  = 3,\n",
    "                                               stride       = 1,\n",
    "                                               padding      = 1),\n",
    "#                                      nn.BatchNorm2d(16),\n",
    "                                     nn.ReLU(True),                    \n",
    "                                     nn.Conv2d(in_channels  = 2 * nf,  # Third convolutional layer\n",
    "                                               out_channels = 4 * nf,\n",
    "                                               kernel_size  = 3,\n",
    "                                               stride       = 2,\n",
    "                                               padding      = 1),       #Out 14*14*32\n",
    "                                     nn.ReLU(True))\n",
    "        \n",
    "        ### Flatten layer\n",
    "        self.flatten = nn.Flatten(start_dim=1)\n",
    "        ### Linear section\n",
    "        self.encoder_lin = nn.Sequential(nn.Linear(14*14*(4*nf), 1024),\n",
    "                                         nn.ReLU(True),\n",
    "                                         nn.Linear(1024, latent_dim))\n",
    "        \n",
    "        ### Decoder\n",
    "        \n",
    "        self.decoder_lin = nn.Sequential(nn.Linear(latent_dim, 1024),\n",
    "                                         nn.ReLU(True),\n",
    "                                         nn.Linear(1024, 14*14*(4*nf)),\n",
    "                                         nn.ReLU(True))\n",
    "\n",
    "        self.unflatten = nn.Unflatten(dim=1,\n",
    "                                      unflattened_size=((4*nf), 14, 14))\n",
    "\n",
    "        self.decoder = nn.Sequential(nn.ConvTranspose2d(in_channels    = 4 * nf,   # First transposed convolution\n",
    "                                                        out_channels   = 2 * nf,\n",
    "                                                        kernel_size    = 3,\n",
    "                                                        stride         = 2,\n",
    "                                                        padding        = 1,\n",
    "                                                        output_padding = 1),\n",
    "#                                      nn.BatchNorm2d(16),\n",
    "                                     nn.ReLU(True),\n",
    "                                     nn.ConvTranspose2d(in_channels    = 2 * nf,    # Second transposed convolution\n",
    "                                                        out_channels   = nf,\n",
    "                                                        kernel_size    = 3,\n",
    "                                                        stride         = 1,\n",
    "                                                        padding        = 1,\n",
    "                                                        output_padding = 0),\n",
    "                                     nn.ReLU(True),\n",
    "                                     nn.ConvTranspose2d(in_channels    = nf,        # Third transposed convolution\n",
    "                                                        out_channels   = 1,\n",
    "                                                        kernel_size    = 3,\n",
    "                                                        stride         = 1,\n",
    "                                                        padding        = 1,\n",
    "                                                        output_padding = 0))\n",
    "        \n",
    "    def forward(self, x):\n",
    "        x = self.encoder(x)\n",
    "        x1 = torch.clone(x)\n",
    "        x = self.flatten(x)\n",
    "        x = self.encoder_lin(x)\n",
    "        x = self.decoder_lin(x)\n",
    "        x = self.unflatten(x)\n",
    "        x = self.decoder(x)\n",
    "        return x, x1"
   ]
  },
  {
   "cell_type": "code",
   "execution_count": 12,
   "id": "971c366e",
   "metadata": {},
   "outputs": [
    {
     "name": "stdout",
     "output_type": "stream",
     "text": [
      "Selected device: cpu\n"
     ]
    },
    {
     "data": {
      "text/plain": [
       "Autoencoder(\n",
       "  (encoder): Sequential(\n",
       "    (0): Conv2d(1, 16, kernel_size=(3, 3), stride=(1, 1), padding=(1, 1))\n",
       "    (1): ReLU(inplace=True)\n",
       "    (2): Conv2d(16, 32, kernel_size=(3, 3), stride=(1, 1), padding=(1, 1))\n",
       "    (3): ReLU(inplace=True)\n",
       "    (4): Conv2d(32, 64, kernel_size=(3, 3), stride=(2, 2), padding=(1, 1))\n",
       "    (5): ReLU(inplace=True)\n",
       "  )\n",
       "  (flatten): Flatten(start_dim=1, end_dim=-1)\n",
       "  (encoder_lin): Sequential(\n",
       "    (0): Linear(in_features=12544, out_features=1024, bias=True)\n",
       "    (1): ReLU(inplace=True)\n",
       "    (2): Linear(in_features=1024, out_features=128, bias=True)\n",
       "  )\n",
       "  (decoder_lin): Sequential(\n",
       "    (0): Linear(in_features=128, out_features=1024, bias=True)\n",
       "    (1): ReLU(inplace=True)\n",
       "    (2): Linear(in_features=1024, out_features=12544, bias=True)\n",
       "    (3): ReLU(inplace=True)\n",
       "  )\n",
       "  (unflatten): Unflatten(dim=1, unflattened_size=(64, 14, 14))\n",
       "  (decoder): Sequential(\n",
       "    (0): ConvTranspose2d(64, 32, kernel_size=(3, 3), stride=(2, 2), padding=(1, 1), output_padding=(1, 1))\n",
       "    (1): ReLU(inplace=True)\n",
       "    (2): ConvTranspose2d(32, 16, kernel_size=(3, 3), stride=(1, 1), padding=(1, 1))\n",
       "    (3): ReLU(inplace=True)\n",
       "    (4): ConvTranspose2d(16, 1, kernel_size=(3, 3), stride=(1, 1), padding=(1, 1))\n",
       "  )\n",
       ")"
      ]
     },
     "execution_count": 12,
     "metadata": {},
     "output_type": "execute_result"
    }
   ],
   "source": [
    "learning_rate     = 1e-3\n",
    "regularization    = 1e-4\n",
    "nf                = 16\n",
    "latent_dim        = 128\n",
    "\n",
    "AEC = Autoencoder(nf,latent_dim)\n",
    "\n",
    "loss_fn = torch.nn.MSELoss()\n",
    "\n",
    "params_to_optimize = [{'params': AEC.encoder.parameters()},\n",
    "                      {'params': AEC.decoder.parameters()}]\n",
    "\n",
    "optim = torch.optim.Adam(params_to_optimize, lr=learning_rate, weight_decay=regularization)\n",
    "\n",
    "# Check if the GPU is available\n",
    "device = torch.device(\"cuda\") if torch.cuda.is_available() else torch.device(\"cpu\")\n",
    "print(f'Selected device: {device}')\n",
    "\n",
    "#Send model to device\n",
    "AEC.to(device)"
   ]
  },
  {
   "cell_type": "code",
   "execution_count": null,
   "id": "2fe88756",
   "metadata": {},
   "outputs": [],
   "source": [
    "# AEC.load_state_dict(torch.load(\"./Modelos_Fiteados/AEC/AEC_1024_2.pth\"))"
   ]
  },
  {
   "cell_type": "code",
   "execution_count": 23,
   "id": "ef9a2929",
   "metadata": {},
   "outputs": [],
   "source": [
    "### Training function\n",
    "def train_epoch(AEC, device, dataloader, loss_fn, optimizer):\n",
    "    AEC.train()\n",
    "    train_loss = []\n",
    "    for data, label in dataloader:\n",
    "        # Move data to device\n",
    "        data = data.to(device)\n",
    "        label = label.to(device)\n",
    "        # process\n",
    "        processed = AEC.forward(data)[0]\n",
    "        # Compute loss\n",
    "        loss = loss_fn(processed, label)\n",
    "        # Backpropagation\n",
    "        optimizer.zero_grad()\n",
    "        loss.backward()\n",
    "        optimizer.step()\n",
    "        ###\n",
    "        loss = loss.detach().cpu().numpy()\n",
    "        train_loss.append(loss)\n",
    "    return np.mean(train_loss)    "
   ]
  },
  {
   "cell_type": "code",
   "execution_count": 24,
   "id": "210b4b37",
   "metadata": {},
   "outputs": [],
   "source": [
    "### Testing function\n",
    "def test_epoch(AEC, device, dataloader, loss_fn):\n",
    "    AEC.eval()\n",
    "    test_loss = []\n",
    "    with torch.no_grad():\n",
    "        for data, label in dataloader:\n",
    "            # Move tensor to the proper device\n",
    "            data = data.to(device)\n",
    "            label = label.to(device)\n",
    "            # output\n",
    "            processed = AEC.forward(data)[0]\n",
    "            # Compute loss\n",
    "            loss = loss_fn(processed, label)\n",
    "            #Save test loss for this batch\n",
    "            loss = loss.detach().cpu().numpy()\n",
    "            test_loss.append(loss)\n",
    "    return np.mean(test_loss)"
   ]
  },
  {
   "cell_type": "code",
   "execution_count": null,
   "id": "9045720a",
   "metadata": {},
   "outputs": [],
   "source": [
    "# def plot_ae_outputs(AEC, n=10):\n",
    "#     plt.figure(figsize=(16,4.5))\n",
    "#     targets = tensor_datatest.targets.numpy()\n",
    "#     t_idx = {i:np.where(targets==i)[0][0] for i in range(n)}\n",
    "#     for i in range(n):\n",
    "#         ax = plt.subplot(2,n,i+1)\n",
    "#         img = tensor_datatest[t_idx[i]][0].unsqueeze(0).to(device)\n",
    "#         encoder.eval()\n",
    "#         decoder.eval()\n",
    "#         with torch.no_grad():\n",
    "#             rec_img  = decoder(encoder(img))\n",
    "#         plt.imshow(img.cpu().squeeze().numpy(), cmap='gist_gray')\n",
    "#         ax.get_xaxis().set_visible(False)\n",
    "#         ax.get_yaxis().set_visible(False)\n",
    "#         if i == n//2:\n",
    "#             ax.set_title('Original images')\n",
    "#         ax = plt.subplot(2, n, i + 1 + n)\n",
    "#         plt.imshow(rec_img.cpu().squeeze().numpy(), cmap='gist_gray')\n",
    "#         ax.get_xaxis().set_visible(False)\n",
    "#         ax.get_yaxis().set_visible(False)\n",
    "#         if i == n//2:\n",
    "#             ax.set_title('Reconstructed images')\n",
    "#         plt.show()   "
   ]
  },
  {
   "cell_type": "code",
   "execution_count": 21,
   "id": "e8f39e3d",
   "metadata": {},
   "outputs": [],
   "source": [
    "def early_stopping(train_loss, validation_loss, min_delta, tolerance):\n",
    "\n",
    "    counter = 0\n",
    "    if (validation_loss - train_loss) > min_delta:\n",
    "        counter +=1\n",
    "        if counter >= tolerance:\n",
    "            return True"
   ]
  },
  {
   "cell_type": "code",
   "execution_count": 25,
   "id": "320cd101",
   "metadata": {
    "scrolled": true
   },
   "outputs": [
    {
     "name": "stderr",
     "output_type": "stream",
     "text": [
      "  3%|██▌                                                                           | 1/30 [08:55<4:18:36, 535.06s/it]"
     ]
    },
    {
     "name": "stdout",
     "output_type": "stream",
     "text": [
      "\n",
      " EPOCH 1/30 \t train loss_1 0.08724325895309448 \t train loss_2 0.06387387961149216 \t val loss 0.06383249908685684\n"
     ]
    },
    {
     "name": "stderr",
     "output_type": "stream",
     "text": [
      "\r",
      "  7%|█████▏                                                                        | 2/30 [17:53<4:10:32, 536.86s/it]"
     ]
    },
    {
     "name": "stdout",
     "output_type": "stream",
     "text": [
      "\n",
      " EPOCH 2/30 \t train loss_1 0.060944508761167526 \t train loss_2 0.058346208184957504 \t val loss 0.058201324194669724\n"
     ]
    },
    {
     "name": "stderr",
     "output_type": "stream",
     "text": [
      "\r",
      " 10%|███████▊                                                                      | 3/30 [27:02<4:04:09, 542.57s/it]"
     ]
    },
    {
     "name": "stdout",
     "output_type": "stream",
     "text": [
      "\n",
      " EPOCH 3/30 \t train loss_1 0.056329261511564255 \t train loss_2 0.05443910136818886 \t val loss 0.054224539548158646\n"
     ]
    },
    {
     "name": "stderr",
     "output_type": "stream",
     "text": [
      "\r",
      " 13%|██████████▍                                                                   | 4/30 [35:59<3:54:09, 540.35s/it]"
     ]
    },
    {
     "name": "stdout",
     "output_type": "stream",
     "text": [
      "\n",
      " EPOCH 4/30 \t train loss_1 0.0532599538564682 \t train loss_2 0.05203661322593689 \t val loss 0.05180441215634346\n"
     ]
    },
    {
     "name": "stderr",
     "output_type": "stream",
     "text": [
      "\r",
      " 17%|█████████████                                                                 | 5/30 [45:04<3:45:48, 541.94s/it]"
     ]
    },
    {
     "name": "stdout",
     "output_type": "stream",
     "text": [
      "\n",
      " EPOCH 5/30 \t train loss_1 0.051224227994680405 \t train loss_2 0.050180599093437195 \t val loss 0.049951422959566116\n"
     ]
    },
    {
     "name": "stderr",
     "output_type": "stream",
     "text": [
      "\r",
      " 20%|███████████████▌                                                              | 6/30 [54:00<3:35:59, 539.97s/it]"
     ]
    },
    {
     "name": "stdout",
     "output_type": "stream",
     "text": [
      "\n",
      " EPOCH 6/30 \t train loss_1 0.049735862761735916 \t train loss_2 0.04883076623082161 \t val loss 0.04860011860728264\n"
     ]
    },
    {
     "name": "stderr",
     "output_type": "stream",
     "text": [
      "\r",
      " 23%|█████████████████▋                                                          | 7/30 [1:02:56<3:26:26, 538.55s/it]"
     ]
    },
    {
     "name": "stdout",
     "output_type": "stream",
     "text": [
      "\n",
      " EPOCH 7/30 \t train loss_1 0.04864149168133736 \t train loss_2 0.048546671867370605 \t val loss 0.04832061007618904\n"
     ]
    },
    {
     "name": "stderr",
     "output_type": "stream",
     "text": [
      "\r",
      " 27%|████████████████████▎                                                       | 8/30 [1:11:53<3:17:17, 538.07s/it]"
     ]
    },
    {
     "name": "stdout",
     "output_type": "stream",
     "text": [
      "\n",
      " EPOCH 8/30 \t train loss_1 0.04763292148709297 \t train loss_2 0.04698904976248741 \t val loss 0.04676090553402901\n"
     ]
    },
    {
     "name": "stderr",
     "output_type": "stream",
     "text": [
      "\r",
      " 30%|██████████████████████▊                                                     | 9/30 [1:20:48<3:08:01, 537.22s/it]"
     ]
    },
    {
     "name": "stdout",
     "output_type": "stream",
     "text": [
      "\n",
      " EPOCH 9/30 \t train loss_1 0.04682819917798042 \t train loss_2 0.0462191142141819 \t val loss 0.0459911972284317\n"
     ]
    },
    {
     "name": "stderr",
     "output_type": "stream",
     "text": [
      "\r",
      " 33%|█████████████████████████                                                  | 10/30 [1:31:32<3:10:01, 570.09s/it]"
     ]
    },
    {
     "name": "stdout",
     "output_type": "stream",
     "text": [
      "\n",
      " EPOCH 10/30 \t train loss_1 0.0463634692132473 \t train loss_2 0.04559098556637764 \t val loss 0.04535786807537079\n"
     ]
    },
    {
     "name": "stderr",
     "output_type": "stream",
     "text": [
      "\r",
      " 37%|███████████████████████████▍                                               | 11/30 [1:43:25<3:14:24, 613.92s/it]"
     ]
    },
    {
     "name": "stdout",
     "output_type": "stream",
     "text": [
      "\n",
      " EPOCH 11/30 \t train loss_1 0.04557189345359802 \t train loss_2 0.04493182525038719 \t val loss 0.044705625623464584\n"
     ]
    },
    {
     "name": "stderr",
     "output_type": "stream",
     "text": [
      "\r",
      " 40%|██████████████████████████████                                             | 12/30 [1:55:28<3:14:10, 647.24s/it]"
     ]
    },
    {
     "name": "stdout",
     "output_type": "stream",
     "text": [
      "\n",
      " EPOCH 12/30 \t train loss_1 0.04508045315742493 \t train loss_2 0.04443703219294548 \t val loss 0.0442068986594677\n"
     ]
    },
    {
     "name": "stderr",
     "output_type": "stream",
     "text": [
      "\r",
      " 43%|████████████████████████████████▌                                          | 13/30 [2:06:55<3:06:48, 659.32s/it]"
     ]
    },
    {
     "name": "stdout",
     "output_type": "stream",
     "text": [
      "\n",
      " EPOCH 13/30 \t train loss_1 0.04476649686694145 \t train loss_2 0.04418747127056122 \t val loss 0.04395231232047081\n"
     ]
    },
    {
     "name": "stderr",
     "output_type": "stream",
     "text": [
      "\r",
      " 47%|███████████████████████████████████                                        | 14/30 [2:18:25<2:58:15, 668.44s/it]"
     ]
    },
    {
     "name": "stdout",
     "output_type": "stream",
     "text": [
      "\n",
      " EPOCH 14/30 \t train loss_1 0.04430386424064636 \t train loss_2 0.04363253340125084 \t val loss 0.04339981451630592\n"
     ]
    },
    {
     "name": "stderr",
     "output_type": "stream",
     "text": [
      "\r",
      " 50%|█████████████████████████████████████▌                                     | 15/30 [2:30:28<2:51:11, 684.74s/it]"
     ]
    },
    {
     "name": "stdout",
     "output_type": "stream",
     "text": [
      "\n",
      " EPOCH 15/30 \t train loss_1 0.04391178861260414 \t train loss_2 0.043303389102220535 \t val loss 0.04307172819972038\n"
     ]
    },
    {
     "name": "stderr",
     "output_type": "stream",
     "text": [
      "\r",
      " 53%|████████████████████████████████████████                                   | 16/30 [2:42:06<2:40:44, 688.91s/it]"
     ]
    },
    {
     "name": "stdout",
     "output_type": "stream",
     "text": [
      "\n",
      " EPOCH 16/30 \t train loss_1 0.04362541437149048 \t train loss_2 0.04326711595058441 \t val loss 0.04304642602801323\n"
     ]
    },
    {
     "name": "stderr",
     "output_type": "stream",
     "text": [
      "\r",
      " 57%|██████████████████████████████████████████▌                                | 17/30 [2:53:26<2:28:40, 686.20s/it]"
     ]
    },
    {
     "name": "stdout",
     "output_type": "stream",
     "text": [
      "\n",
      " EPOCH 17/30 \t train loss_1 0.04353995993733406 \t train loss_2 0.043859634548425674 \t val loss 0.04363283887505531\n"
     ]
    },
    {
     "name": "stderr",
     "output_type": "stream",
     "text": [
      "\r",
      " 60%|█████████████████████████████████████████████                              | 18/30 [3:05:10<2:18:19, 691.63s/it]"
     ]
    },
    {
     "name": "stdout",
     "output_type": "stream",
     "text": [
      "\n",
      " EPOCH 18/30 \t train loss_1 0.04289691150188446 \t train loss_2 0.04343707859516144 \t val loss 0.04322316125035286\n"
     ]
    },
    {
     "name": "stderr",
     "output_type": "stream",
     "text": [
      "\r",
      " 63%|███████████████████████████████████████████████▌                           | 19/30 [3:16:41<2:06:45, 691.41s/it]"
     ]
    },
    {
     "name": "stdout",
     "output_type": "stream",
     "text": [
      "\n",
      " EPOCH 19/30 \t train loss_1 0.04285407066345215 \t train loss_2 0.04219025745987892 \t val loss 0.04196320101618767\n"
     ]
    },
    {
     "name": "stderr",
     "output_type": "stream",
     "text": [
      "\r",
      " 67%|██████████████████████████████████████████████████                         | 20/30 [3:28:38<1:56:29, 698.90s/it]"
     ]
    },
    {
     "name": "stdout",
     "output_type": "stream",
     "text": [
      "\n",
      " EPOCH 20/30 \t train loss_1 0.04258148372173309 \t train loss_2 0.043487537652254105 \t val loss 0.04327849671244621\n"
     ]
    },
    {
     "name": "stderr",
     "output_type": "stream",
     "text": [
      "\r",
      " 70%|████████████████████████████████████████████████████▌                      | 21/30 [3:40:18<1:44:54, 699.39s/it]"
     ]
    },
    {
     "name": "stdout",
     "output_type": "stream",
     "text": [
      "\n",
      " EPOCH 21/30 \t train loss_1 0.042367398738861084 \t train loss_2 0.04221336171030998 \t val loss 0.04198524355888367\n"
     ]
    },
    {
     "name": "stderr",
     "output_type": "stream",
     "text": [
      "\r",
      " 73%|██████████████████████████████████████████████████████▉                    | 22/30 [3:52:14<1:33:55, 704.42s/it]"
     ]
    },
    {
     "name": "stdout",
     "output_type": "stream",
     "text": [
      "\n",
      " EPOCH 22/30 \t train loss_1 0.04219767078757286 \t train loss_2 0.04198750853538513 \t val loss 0.04177433252334595\n"
     ]
    },
    {
     "name": "stderr",
     "output_type": "stream",
     "text": [
      "\r",
      " 77%|█████████████████████████████████████████████████████████▌                 | 23/30 [4:03:39<1:21:30, 698.66s/it]"
     ]
    },
    {
     "name": "stdout",
     "output_type": "stream",
     "text": [
      "\n",
      " EPOCH 23/30 \t train loss_1 0.04196948930621147 \t train loss_2 0.04342874884605408 \t val loss 0.043225374072790146\n"
     ]
    },
    {
     "name": "stderr",
     "output_type": "stream",
     "text": [
      "\r",
      " 80%|████████████████████████████████████████████████████████████               | 24/30 [4:15:34<1:10:19, 703.31s/it]"
     ]
    },
    {
     "name": "stdout",
     "output_type": "stream",
     "text": [
      "\n",
      " EPOCH 24/30 \t train loss_1 0.04186807945370674 \t train loss_2 0.04159406200051308 \t val loss 0.041370946913957596\n"
     ]
    },
    {
     "name": "stderr",
     "output_type": "stream",
     "text": [
      "\r",
      " 83%|████████████████████████████████████████████████████████████████▏            | 25/30 [4:25:57<56:36, 679.22s/it]"
     ]
    },
    {
     "name": "stdout",
     "output_type": "stream",
     "text": [
      "\n",
      " EPOCH 25/30 \t train loss_1 0.04160332679748535 \t train loss_2 0.04101384058594704 \t val loss 0.04079682007431984\n"
     ]
    },
    {
     "name": "stderr",
     "output_type": "stream",
     "text": [
      "\r",
      " 87%|██████████████████████████████████████████████████████████████████▋          | 26/30 [4:34:52<42:23, 635.96s/it]"
     ]
    },
    {
     "name": "stdout",
     "output_type": "stream",
     "text": [
      "\n",
      " EPOCH 26/30 \t train loss_1 0.04139801487326622 \t train loss_2 0.041031066328287125 \t val loss 0.0408175103366375\n"
     ]
    },
    {
     "name": "stderr",
     "output_type": "stream",
     "text": [
      "\r",
      " 90%|█████████████████████████████████████████████████████████████████████▎       | 27/30 [4:43:47<30:17, 605.83s/it]"
     ]
    },
    {
     "name": "stdout",
     "output_type": "stream",
     "text": [
      "\n",
      " EPOCH 27/30 \t train loss_1 0.04123920202255249 \t train loss_2 0.04068225249648094 \t val loss 0.04047028347849846\n"
     ]
    },
    {
     "name": "stderr",
     "output_type": "stream",
     "text": [
      "\r",
      " 93%|███████████████████████████████████████████████████████████████████████▊     | 28/30 [4:52:42<19:29, 584.61s/it]"
     ]
    },
    {
     "name": "stdout",
     "output_type": "stream",
     "text": [
      "\n",
      " EPOCH 28/30 \t train loss_1 0.041052136570215225 \t train loss_2 0.04109294340014458 \t val loss 0.040889471769332886\n"
     ]
    },
    {
     "name": "stderr",
     "output_type": "stream",
     "text": [
      "\r",
      " 97%|██████████████████████████████████████████████████████████████████████████▍  | 29/30 [5:01:38<09:30, 570.03s/it]"
     ]
    },
    {
     "name": "stdout",
     "output_type": "stream",
     "text": [
      "\n",
      " EPOCH 29/30 \t train loss_1 0.040943920612335205 \t train loss_2 0.04099145531654358 \t val loss 0.04077664017677307\n"
     ]
    },
    {
     "name": "stderr",
     "output_type": "stream",
     "text": [
      "100%|█████████████████████████████████████████████████████████████████████████████| 30/30 [5:10:34<00:00, 621.16s/it]"
     ]
    },
    {
     "name": "stdout",
     "output_type": "stream",
     "text": [
      "\n",
      " EPOCH 30/30 \t train loss_1 0.04092252254486084 \t train loss_2 0.040170036256313324 \t val loss 0.03995911404490471\n"
     ]
    },
    {
     "name": "stderr",
     "output_type": "stream",
     "text": [
      "\n"
     ]
    }
   ],
   "source": [
    "num_epochs = 30\n",
    "diz_loss = {'train_loss_1':[],'train_loss_2':[],'val_loss':[]}\n",
    "for epoch in tqdm(range(num_epochs)):\n",
    "    train_loss_1 = train_epoch(AEC,\n",
    "                               device,\n",
    "                               train_loader,\n",
    "                               loss_fn,\n",
    "                               optim)\n",
    "    train_loss_2 = test_epoch(AEC,\n",
    "                              device,\n",
    "                              train_loader,\n",
    "                              loss_fn)\n",
    "    val_loss = test_epoch(AEC,\n",
    "                          device,\n",
    "                          val_loader,\n",
    "                          loss_fn)\n",
    "    print('\\n EPOCH {}/{} \\t train loss_1 {} \\t train loss_2 {} \\t val loss {}'.format(epoch + 1, num_epochs,train_loss_1,train_loss_2,val_loss))\n",
    "    diz_loss['train_loss_1'].append(train_loss_1)\n",
    "    diz_loss['train_loss_2'].append(train_loss_2)\n",
    "    diz_loss['val_loss'].append(val_loss)\n",
    "#     plot_ae_outputs(AEC, n=10)\n",
    "# early stopping\n",
    "    if early_stopping(train_loss_2, val_loss, min_delta=0.001, tolerance = 5):\n",
    "      print(\"We are at epoch:\", i)\n",
    "      break"
   ]
  },
  {
   "cell_type": "code",
   "execution_count": 26,
   "id": "8c55afba",
   "metadata": {},
   "outputs": [],
   "source": [
    "saveModel(AEC)"
   ]
  },
  {
   "cell_type": "code",
   "execution_count": 27,
   "id": "93b67257",
   "metadata": {},
   "outputs": [],
   "source": [
    "np.savetxt('./Modelos_Fiteados/losses/AEC/NUEVAS/train_ultimo_1',diz_loss['train_loss_1'])\n",
    "np.savetxt('./Modelos_Fiteados/losses/AEC/NUEVAS/train_ultimo_2',diz_loss['train_loss_2'])\n",
    "np.savetxt('./Modelos_Fiteados/losses/AEC/NUEVAS/val_ultimo',diz_loss['val_loss'])\n",
    "\n",
    "# train_loss = np.loadtxt()\n",
    "# test_loss = np.loadtxt()"
   ]
  },
  {
   "cell_type": "code",
   "execution_count": null,
   "id": "bbf8c41b",
   "metadata": {},
   "outputs": [],
   "source": [
    "test_epoch(AEC, device, test_loader, loss_fn).item()"
   ]
  },
  {
   "cell_type": "code",
   "execution_count": 28,
   "id": "fb448ea1",
   "metadata": {},
   "outputs": [
    {
     "data": {
      "image/png": "[encoded data removed]",
      "text/plain": [
       "<Figure size 504x360 with 1 Axes>"
      ]
     },
     "metadata": {
      "needs_background": "light"
     },
     "output_type": "display_data"
    }
   ],
   "source": [
    "# Plot losses by epoch\n",
    "plt.figure(figsize=(7,5))\n",
    "plt.plot(diz_loss['train_loss_2'], linestyle='--', marker='o',  label='Train loss', c='mediumaquamarine')\n",
    "plt.plot(diz_loss['val_loss'], linestyle='--', marker='o', label='Valid loss', c='darkviolet')\n",
    "plt.xlabel('Época',fontsize=15)\n",
    "plt.ylabel('Loss',fontsize=15)\n",
    "plt.title(\"Función de costo\",fontsize=15)\n",
    "plt.grid()\n",
    "plt.legend()\n",
    "plt.savefig('./Modelos_Fiteados/Imagenes/AEC/NUEVAS/errores_AEC.png', format='png')\n",
    "plt.show()"
   ]
  },
  {
   "cell_type": "code",
   "execution_count": null,
   "id": "a34c8afb",
   "metadata": {},
   "outputs": [],
   "source": [
    "# # Plot losses\n",
    "# plt.figure(figsize=(10,8))\n",
    "# plt.plot(diz_loss['train_loss'], label='Train')\n",
    "# plt.plot(diz_loss['val_loss'], label='Valid')\n",
    "\n",
    "# plt.xlabel('Epoch')\n",
    "# plt.ylabel('Average Loss')\n",
    "# plt.legend()\n",
    "# #plt.title('loss')\n",
    "# plt.show()"
   ]
  },
  {
   "cell_type": "code",
   "execution_count": null,
   "id": "06b7460f",
   "metadata": {},
   "outputs": [],
   "source": [
    "elements = [110,121,130,140]\n",
    "\n",
    "fig, axs = plt.subplots(3, 4, figsize=(12,6))\n",
    "fig.suptitle('Original, rotada and reconstructed image',fontsize=15)\n",
    "fig.subplots_adjust(top=0.88)\n",
    "axs = axs.ravel()\n",
    "\n",
    "for i in range (4):\n",
    "    img   = to_tensor(RX_test[elements[i]]).unsqueeze(0).to(device)\n",
    "    label = to_tensor(RY_test[elements[i]]).unsqueeze(0).to(device)\n",
    "    with torch.no_grad():\n",
    "        AEC.eval()\n",
    "        rec_img  = AEC(img)[0]        \n",
    "    # Plot the reconstructed image  \n",
    "    axs[i].imshow(img.cpu().squeeze().numpy(), cmap='gist_gray')\n",
    "    axs[i].set_title('img')\n",
    "    axs[i].set_xticks([])\n",
    "    axs[i].set_yticks([])\n",
    "    axs[i+4].imshow(label.cpu().squeeze().numpy(), cmap='gist_gray')\n",
    "    axs[i+4].set_title('original')\n",
    "    axs[i+4].set_xticks([])\n",
    "    axs[i+4].set_yticks([])\n",
    "    axs[i+8].imshow(rec_img.cpu().squeeze().numpy(), cmap='gist_gray')\n",
    "    axs[i+8].set_title('Reconstructed image')\n",
    "    axs[i+8].set_xticks([])\n",
    "    axs[i+8].set_yticks([])\n",
    "#     plt.savefig('./Modelos_Fiteados/Imagenes/AEC/recons_1024.png', format='png')\n",
    "    plt.tight_layout()\n",
    "    fig.subplots_adjust(top=0.88)"
   ]
  },
  {
   "cell_type": "markdown",
   "id": "5a56073a",
   "metadata": {},
   "source": [
    "veamos activaciones a ver"
   ]
  },
  {
   "cell_type": "code",
   "execution_count": null,
   "id": "0414afe0",
   "metadata": {},
   "outputs": [],
   "source": [
    "i=140\n",
    "\n",
    "activaciones = np.empty(shape=(64,14,14))\n",
    "\n",
    "img   = to_tensor(RX_test[i]).unsqueeze(0).to(device)\n",
    "label = to_tensor(RY_test[i]).unsqueeze(0).to(device)\n",
    "with torch.no_grad():\n",
    "    AEC.eval()\n",
    "    activ = AEC.forward(img)[1]\n",
    "    activaciones = activ"
   ]
  },
  {
   "cell_type": "code",
   "execution_count": null,
   "id": "4ffe309e",
   "metadata": {},
   "outputs": [],
   "source": [
    "# print(activaciones[0,0])\n",
    "\n",
    "plt.imshow(activaciones[0,0])\n",
    "plt.colorbar()"
   ]
  },
  {
   "cell_type": "code",
   "execution_count": null,
   "id": "ab24af21",
   "metadata": {},
   "outputs": [],
   "source": [
    "# print(activaciones.shape)"
   ]
  },
  {
   "cell_type": "code",
   "execution_count": null,
   "id": "b9fefcae",
   "metadata": {},
   "outputs": [],
   "source": [
    "fig, axs = plt.subplots(8, 8, figsize=(8,8))\n",
    "i = 0\n",
    "for ax in axs.flatten():\n",
    "    ax.imshow(activaciones[0,i], cmap='gist_gray')\n",
    "    ax.set_xticks([])\n",
    "    ax.set_yticks([])\n",
    "    i +=1\n",
    "plt.tight_layout()\n",
    "plt.savefig('./Modelos_Fiteados/Imagenes/AEC/activaciones_1024_1s.png', format='png')"
   ]
  },
  {
   "cell_type": "code",
   "execution_count": null,
   "id": "3c1474a4",
   "metadata": {},
   "outputs": [],
   "source": [
    "# for i,j in AEC.named_parameters():\n",
    "#     print(i,j)"
   ]
  },
  {
   "cell_type": "markdown",
   "id": "c69f9166",
   "metadata": {},
   "source": [
    "### Visualizacion de filtros"
   ]
  },
  {
   "cell_type": "code",
   "execution_count": null,
   "id": "7ff160b5",
   "metadata": {},
   "outputs": [],
   "source": [
    "model_weights = [] \n",
    "conv_layers = [] \n",
    "model_children = list(AEC.encoder.children())\n",
    "\n",
    "# counter to keep count of the conv layers\n",
    "counter = 0 \n",
    "# append all the conv layers and their respective weights to the list\n",
    "for i in range(len(model_children)):\n",
    "    if type(model_children[i]) == nn.Conv2d:\n",
    "        counter += 1\n",
    "        model_weights.append(model_children[i].weight)\n",
    "        conv_layers.append(model_children[i])\n",
    "    elif type(model_children[i]) == nn.Sequential:\n",
    "        for j in range(len(model_children[i])):\n",
    "            for child in model_children[i][j].children():\n",
    "                if type(child) == nn.Conv2d:\n",
    "                    counter += 1\n",
    "                    model_weights.append(child.weight)\n",
    "                    conv_layers.append(child)\n",
    "print(f\"Total convolutional layers: {counter}\")"
   ]
  },
  {
   "cell_type": "code",
   "execution_count": null,
   "id": "4a3d8524",
   "metadata": {},
   "outputs": [],
   "source": [
    "for weight, conv in zip(model_weights, conv_layers):\n",
    "    # print(f\"WEIGHT: {weight} \\nSHAPE: {weight.shape}\")\n",
    "    print(f\"CONV: {conv} ====> SHAPE: {weight.shape}\")"
   ]
  },
  {
   "cell_type": "code",
   "execution_count": null,
   "id": "80a67962",
   "metadata": {},
   "outputs": [],
   "source": [
    "# visualize the first conv layer filters\n",
    "plt.figure(figsize=(8, 8))\n",
    "for i, filter in enumerate(model_weights[0]):\n",
    "    plt.subplot(4, 4, i+1) # we have 3x3 filters and total of 8 (see printed shapes)\n",
    "    plt.imshow(filter[0, :, :].detach().cpu().numpy(), cmap='gist_gray')\n",
    "    plt.axis('off')\n",
    "    plt.savefig('./Modelos_Fiteados/Imagenes/AEC/filtros_c1.png', format='png')\n",
    "plt.show()"
   ]
  },
  {
   "cell_type": "code",
   "execution_count": null,
   "id": "e4564fa0",
   "metadata": {},
   "outputs": [],
   "source": [
    "# visualize the 2nd conv layer filters\n",
    "plt.figure(figsize=(12,12))\n",
    "for i, filter in enumerate(model_weights[1]):\n",
    "    plt.subplot(4, 8, i+1) # we have 3x3 filters and total of 16 (see printed shapes)\n",
    "    plt.imshow(filter[0, :, :].detach().cpu().numpy(), cmap='gist_gray')\n",
    "    plt.axis('off')\n",
    "    plt.savefig('./Modelos_Fiteados/Imagenes/AEC/filtros_c2.png', format='png')\n",
    "plt.show()"
   ]
  },
  {
   "cell_type": "code",
   "execution_count": null,
   "id": "91d1678c",
   "metadata": {},
   "outputs": [],
   "source": [
    "# visualize the 3th conv layer filters\n",
    "plt.figure(figsize=(2*8,2*8))\n",
    "for i, filter in enumerate(model_weights[2]):\n",
    "    plt.subplot(8, 8, i+1) # we have 3x3 filters and total of 32 (see printed shapes)\n",
    "    plt.imshow(filter[0, :, :].detach().cpu().numpy(), cmap='gist_gray')\n",
    "    plt.axis('off')\n",
    "    plt.savefig('./Modelos_Fiteados/Imagenes/AEC/filtros_c3.png', format='png')\n",
    "plt.show()"
   ]
  },
  {
   "cell_type": "markdown",
   "id": "d2673811",
   "metadata": {},
   "source": [
    "Visualización del espacio latente con t-SNE"
   ]
  },
  {
   "cell_type": "code",
   "execution_count": null,
   "id": "6b23ad5c",
   "metadata": {},
   "outputs": [],
   "source": [
    "# encoded_samples = []\n",
    "# for sample in tqdm(tensor_datatest):\n",
    "#     img = sample[0].unsqueeze(0).to(device)\n",
    "#     label = sample[1]\n",
    "#     # Encode image    \n",
    "#     AEC.eval()\n",
    "#     with torch.no_grad():\n",
    "#         encoded_img  = AEC.encoder(img)\n",
    "#     # Append to list\n",
    "#     encoded_img = encoded_img.flatten().cpu().numpy()\n",
    "#     encoded_sample = {f\"Enc. Variable {i}\": enc for i, enc in enumerate(encoded_img)}\n",
    "#     encoded_sample['label'] = label\n",
    "#     encoded_samples.append(encoded_sample)\n",
    "# encoded_samples = pd.DataFrame(encoded_samples)\n",
    "# encoded_samples"
   ]
  },
  {
   "cell_type": "code",
   "execution_count": null,
   "id": "b4666bc2",
   "metadata": {},
   "outputs": [],
   "source": [
    "# encoded_samples.to_csv('./Modelos_Fiteados/AEC/encoded_samples.csv', header=False, index=False)\n",
    "\n",
    "# # encoded_asmples =pd.read_csv('./Modelos_Fiteados/AEC/encoded_samples.csv')"
   ]
  },
  {
   "cell_type": "code",
   "execution_count": null,
   "id": "13c193c6",
   "metadata": {},
   "outputs": [],
   "source": [
    "# import plotly.express as px\n",
    "\n",
    "# px.scatter(encoded_samples,\n",
    "#            x='Enc. Variable 0',\n",
    "#            y='Enc. Variable 1',\n",
    "#            color=encoded_samples.label.astype(str),\n",
    "#            opacity=0.7)"
   ]
  },
  {
   "cell_type": "code",
   "execution_count": null,
   "id": "3d2eedbb",
   "metadata": {},
   "outputs": [],
   "source": []
  }
 ],
 "metadata": {
  "kernelspec": {
   "display_name": "Python 3 (ipykernel)",
   "language": "python",
   "name": "python3"
  },
  "language_info": {
   "codemirror_mode": {
    "name": "ipython",
    "version": 3
   },
   "file_extension": ".py",
   "mimetype": "text/x-python",
   "name": "python",
   "nbconvert_exporter": "python",
   "pygments_lexer": "ipython3",
   "version": "3.9.0"
  }
 },
 "nbformat": 4,
 "nbformat_minor": 5
}
